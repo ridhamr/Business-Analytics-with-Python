{
  "nbformat": 4,
  "nbformat_minor": 0,
  "metadata": {
    "colab": {
      "name": "PythonTax.ipynb",
      "provenance": []
    },
    "kernelspec": {
      "name": "python3",
      "display_name": "Python 3"
    },
    "language_info": {
      "name": "python"
    }
  },
  "cells": [
    {
      "cell_type": "code",
      "source": [
        "x=input('Enter 1st no.')\n"
      ],
      "metadata": {
        "colab": {
          "base_uri": "https://localhost:8080/"
        },
        "id": "tAOl3D-XPbxW",
        "outputId": "621c0d63-4706-4aa9-960c-bf266da56680"
      },
      "execution_count": 4,
      "outputs": [
        {
          "name": "stdout",
          "output_type": "stream",
          "text": [
            "Enter 1st no.57\n"
          ]
        }
      ]
    },
    {
      "cell_type": "code",
      "source": [
        "y=input('Enter 2nd no.')"
      ],
      "metadata": {
        "colab": {
          "base_uri": "https://localhost:8080/"
        },
        "id": "TGG0Aj0JPs7N",
        "outputId": "81d9c0b8-d093-49c7-c1e7-9041a3b3f164"
      },
      "execution_count": 5,
      "outputs": [
        {
          "name": "stdout",
          "output_type": "stream",
          "text": [
            "Enter 2nd no.98\n"
          ]
        }
      ]
    },
    {
      "cell_type": "code",
      "source": [
        "int(x)+int(y)"
      ],
      "metadata": {
        "colab": {
          "base_uri": "https://localhost:8080/"
        },
        "id": "S5uMJ2quPyvr",
        "outputId": "bb005b91-8280-4126-c26e-8e1adcf377c4"
      },
      "execution_count": 6,
      "outputs": [
        {
          "output_type": "execute_result",
          "data": {
            "text/plain": [
              "155"
            ]
          },
          "metadata": {},
          "execution_count": 6
        }
      ]
    },
    {
      "cell_type": "code",
      "source": [
        "int(x)-int(y)"
      ],
      "metadata": {
        "colab": {
          "base_uri": "https://localhost:8080/"
        },
        "id": "S0w8E9keP8ym",
        "outputId": "2c1e0df1-8b5f-4b9a-b537-133251a50ed2"
      },
      "execution_count": 7,
      "outputs": [
        {
          "output_type": "execute_result",
          "data": {
            "text/plain": [
              "-41"
            ]
          },
          "metadata": {},
          "execution_count": 7
        }
      ]
    },
    {
      "cell_type": "code",
      "source": [
        "int(x)*int(y)"
      ],
      "metadata": {
        "colab": {
          "base_uri": "https://localhost:8080/"
        },
        "id": "RxfAxPOaQAwm",
        "outputId": "b47d9bfb-e1cb-49bb-9f4e-0e86c89ca750"
      },
      "execution_count": 8,
      "outputs": [
        {
          "output_type": "execute_result",
          "data": {
            "text/plain": [
              "5586"
            ]
          },
          "metadata": {},
          "execution_count": 8
        }
      ]
    },
    {
      "cell_type": "code",
      "source": [
        "int(x)/int(y)"
      ],
      "metadata": {
        "colab": {
          "base_uri": "https://localhost:8080/"
        },
        "id": "vLSGmwWPQEze",
        "outputId": "6511df3d-2a48-4c80-c521-6f38e9e440a4"
      },
      "execution_count": 9,
      "outputs": [
        {
          "output_type": "execute_result",
          "data": {
            "text/plain": [
              "0.5816326530612245"
            ]
          },
          "metadata": {},
          "execution_count": 9
        }
      ]
    },
    {
      "cell_type": "code",
      "source": [
        "x=int(input('Enter 1st no.'))"
      ],
      "metadata": {
        "colab": {
          "base_uri": "https://localhost:8080/"
        },
        "id": "aMd3vOEnQIgW",
        "outputId": "653866e7-2104-439a-d071-29f6c8e132a5"
      },
      "execution_count": 10,
      "outputs": [
        {
          "name": "stdout",
          "output_type": "stream",
          "text": [
            "Enter 1st no.98\n"
          ]
        }
      ]
    },
    {
      "cell_type": "code",
      "source": [
        "y=int(input('Enter 2nd no.'))"
      ],
      "metadata": {
        "colab": {
          "base_uri": "https://localhost:8080/"
        },
        "id": "jd5VeEV0R8st",
        "outputId": "877677e2-ee9d-40b7-9f0a-56d45bd5136d"
      },
      "execution_count": 11,
      "outputs": [
        {
          "name": "stdout",
          "output_type": "stream",
          "text": [
            "Enter 2nd no.72\n"
          ]
        }
      ]
    },
    {
      "cell_type": "code",
      "source": [
        "x+y"
      ],
      "metadata": {
        "colab": {
          "base_uri": "https://localhost:8080/"
        },
        "id": "80kByhqrSGxp",
        "outputId": "bd570bfe-a4cb-4678-e8cd-6e6510e365e6"
      },
      "execution_count": 12,
      "outputs": [
        {
          "output_type": "execute_result",
          "data": {
            "text/plain": [
              "170"
            ]
          },
          "metadata": {},
          "execution_count": 12
        }
      ]
    },
    {
      "cell_type": "code",
      "source": [
        "x-y"
      ],
      "metadata": {
        "colab": {
          "base_uri": "https://localhost:8080/"
        },
        "id": "A8M3CGaVSK45",
        "outputId": "f0ea1f69-a119-412b-b426-ebf99f84578b"
      },
      "execution_count": 13,
      "outputs": [
        {
          "output_type": "execute_result",
          "data": {
            "text/plain": [
              "26"
            ]
          },
          "metadata": {},
          "execution_count": 13
        }
      ]
    },
    {
      "cell_type": "code",
      "source": [
        "x*y"
      ],
      "metadata": {
        "colab": {
          "base_uri": "https://localhost:8080/"
        },
        "id": "gDbBO3Z8SMf5",
        "outputId": "606fa6fb-6a09-436b-8d68-44da47072ec0"
      },
      "execution_count": 14,
      "outputs": [
        {
          "output_type": "execute_result",
          "data": {
            "text/plain": [
              "7056"
            ]
          },
          "metadata": {},
          "execution_count": 14
        }
      ]
    },
    {
      "cell_type": "code",
      "source": [
        "x/y"
      ],
      "metadata": {
        "colab": {
          "base_uri": "https://localhost:8080/"
        },
        "id": "2FYRprnTSNtA",
        "outputId": "d93ca2e6-6a43-4253-f4f0-7b515ae6ee47"
      },
      "execution_count": 15,
      "outputs": [
        {
          "output_type": "execute_result",
          "data": {
            "text/plain": [
              "1.3611111111111112"
            ]
          },
          "metadata": {},
          "execution_count": 15
        }
      ]
    },
    {
      "cell_type": "code",
      "source": [
        "p=int(input('Enter principle amount'))"
      ],
      "metadata": {
        "colab": {
          "base_uri": "https://localhost:8080/"
        },
        "id": "N5OoPPjxSOuF",
        "outputId": "2a5241ad-ca3c-4a69-acf4-a3cbd5e0b6c7"
      },
      "execution_count": 16,
      "outputs": [
        {
          "name": "stdout",
          "output_type": "stream",
          "text": [
            "Enter principle amount35000\n"
          ]
        }
      ]
    },
    {
      "cell_type": "code",
      "source": [
        "n=int(input('Enter no. of years'))"
      ],
      "metadata": {
        "colab": {
          "base_uri": "https://localhost:8080/"
        },
        "id": "ZCV2BP2YTvE1",
        "outputId": "411862c5-dea6-4b3e-fad2-ee94a22012d3"
      },
      "execution_count": 17,
      "outputs": [
        {
          "name": "stdout",
          "output_type": "stream",
          "text": [
            "Enter no. of years3\n"
          ]
        }
      ]
    },
    {
      "cell_type": "code",
      "source": [
        "r=int(input('Enter rate'))"
      ],
      "metadata": {
        "colab": {
          "base_uri": "https://localhost:8080/"
        },
        "id": "4HsIi06JT28B",
        "outputId": "84f5d4b4-6fff-4292-94ce-5715984f055f"
      },
      "execution_count": 18,
      "outputs": [
        {
          "name": "stdout",
          "output_type": "stream",
          "text": [
            "Enter rate3\n"
          ]
        }
      ]
    },
    {
      "cell_type": "code",
      "source": [
        "i=p*n*r/100"
      ],
      "metadata": {
        "id": "TUmcVJUVUEkw"
      },
      "execution_count": 19,
      "outputs": []
    },
    {
      "cell_type": "code",
      "source": [
        "print(i)"
      ],
      "metadata": {
        "colab": {
          "base_uri": "https://localhost:8080/"
        },
        "id": "xhH-eTauUSqg",
        "outputId": "8a3bb946-1238-42f5-fdaa-1066944059a2"
      },
      "execution_count": 20,
      "outputs": [
        {
          "output_type": "stream",
          "name": "stdout",
          "text": [
            "3150.0\n"
          ]
        }
      ]
    },
    {
      "cell_type": "code",
      "source": [
        "x=int(input('Enter your marks'))"
      ],
      "metadata": {
        "colab": {
          "base_uri": "https://localhost:8080/"
        },
        "id": "clzSlRo0UWHP",
        "outputId": "dc851144-358c-462f-b9f0-b6da9fd59e69"
      },
      "execution_count": 21,
      "outputs": [
        {
          "name": "stdout",
          "output_type": "stream",
          "text": [
            "Enter your marks70\n"
          ]
        }
      ]
    },
    {
      "cell_type": "code",
      "source": [
        "if x > 50 :\n",
        "  print('You have passed')\n",
        "if x < 50 :\n",
        "  print('You have failed')"
      ],
      "metadata": {
        "colab": {
          "base_uri": "https://localhost:8080/"
        },
        "id": "BW6LYFcSYW2I",
        "outputId": "1c499bf8-f5c0-4c8d-d195-b207d2b7c450"
      },
      "execution_count": 22,
      "outputs": [
        {
          "output_type": "stream",
          "name": "stdout",
          "text": [
            "You have passed\n"
          ]
        }
      ]
    },
    {
      "cell_type": "code",
      "source": [
        "x=int(input('Enter your salary'))"
      ],
      "metadata": {
        "colab": {
          "base_uri": "https://localhost:8080/"
        },
        "id": "aUP-17HfY7kC",
        "outputId": "bd210e35-b5c1-4195-a72e-0155f5c9ac3b"
      },
      "execution_count": 23,
      "outputs": [
        {
          "name": "stdout",
          "output_type": "stream",
          "text": [
            "Enter your salary175000\n"
          ]
        }
      ]
    },
    {
      "cell_type": "code",
      "source": [
        "if x>=250000:\n",
        "  print('You are taxable')\n",
        "if x<250000:\n",
        "  print('You are not taxable')"
      ],
      "metadata": {
        "colab": {
          "base_uri": "https://localhost:8080/"
        },
        "id": "BFnKdsaEarfK",
        "outputId": "057b232e-59e5-41fc-f858-f64597302387"
      },
      "execution_count": 24,
      "outputs": [
        {
          "output_type": "stream",
          "name": "stdout",
          "text": [
            "You are not taxable\n"
          ]
        }
      ]
    },
    {
      "cell_type": "code",
      "source": [
        "x=int(input('Enter your salary'))"
      ],
      "metadata": {
        "colab": {
          "base_uri": "https://localhost:8080/"
        },
        "id": "G1oGw1gibQ97",
        "outputId": "25de2e3a-fbb9-4c9d-9bb6-fa35e09e3620"
      },
      "execution_count": 25,
      "outputs": [
        {
          "name": "stdout",
          "output_type": "stream",
          "text": [
            "Enter your salary350000\n"
          ]
        }
      ]
    },
    {
      "cell_type": "code",
      "source": [
        "if x>=250000:\n",
        "  print('You are taxable')\n",
        "  print('Your tax amount is',x*10/100)\n",
        "if x<250000:\n",
        "  print('You are not taxable')"
      ],
      "metadata": {
        "colab": {
          "base_uri": "https://localhost:8080/"
        },
        "id": "28eun0xpbtt_",
        "outputId": "0b166cde-ab12-4d20-b9e4-f65d8f3e15bd"
      },
      "execution_count": 29,
      "outputs": [
        {
          "output_type": "stream",
          "name": "stdout",
          "text": [
            "You are taxable\n",
            "Your tax amount is 35000.0\n"
          ]
        }
      ]
    },
    {
      "cell_type": "code",
      "source": [
        "x=int(input('Enter your salary'))"
      ],
      "metadata": {
        "colab": {
          "base_uri": "https://localhost:8080/"
        },
        "id": "w86Fjjk-cQm2",
        "outputId": "137c0286-9f6c-4a6d-d528-c1af81eb1555"
      },
      "execution_count": 30,
      "outputs": [
        {
          "name": "stdout",
          "output_type": "stream",
          "text": [
            "Enter your salary350000\n"
          ]
        }
      ]
    },
    {
      "cell_type": "code",
      "source": [
        "if x>=250000:\n",
        "  print('You are taxable')\n",
        "  print('Your tax amount is',(x-250000)*10/100)\n",
        "if x<250000:\n",
        "  print('You are not taxable')"
      ],
      "metadata": {
        "colab": {
          "base_uri": "https://localhost:8080/"
        },
        "id": "a2V2qVI-eLnJ",
        "outputId": "5606d4b5-c032-4c2d-ef7f-920587568707"
      },
      "execution_count": 28,
      "outputs": [
        {
          "output_type": "stream",
          "name": "stdout",
          "text": [
            "You are taxable\n",
            "Your tax amount is 10000.0\n"
          ]
        }
      ]
    },
    {
      "cell_type": "code",
      "source": [
        "x=int(input('Enter your salary'))"
      ],
      "metadata": {
        "colab": {
          "base_uri": "https://localhost:8080/"
        },
        "id": "WbgaT2Wre2H2",
        "outputId": "9f6a6716-b08f-41fb-c4cf-3069725a0adc"
      },
      "execution_count": 31,
      "outputs": [
        {
          "name": "stdout",
          "output_type": "stream",
          "text": [
            "Enter your salary575000\n"
          ]
        }
      ]
    },
    {
      "cell_type": "code",
      "source": [
        "if x>250000 and x<500000:\n",
        "  print('You are taxable')\n",
        "  print('Your tax amount is',(x-250000)*10/100)\n",
        "if x>500000:\n",
        "  print('You are taxable')\n",
        "  print('Your tax amount is',(x-250000)*20/100)\n",
        "if x<250000:\n",
        "  print('You are not taxable')"
      ],
      "metadata": {
        "colab": {
          "base_uri": "https://localhost:8080/"
        },
        "id": "6nbPx8B4jmm9",
        "outputId": "b788e237-a08e-423f-a263-4f229bddb533"
      },
      "execution_count": 34,
      "outputs": [
        {
          "output_type": "stream",
          "name": "stdout",
          "text": [
            "You are taxable\n",
            "Your tax amount is 65000.0\n"
          ]
        }
      ]
    },
    {
      "cell_type": "code",
      "source": [
        ""
      ],
      "metadata": {
        "id": "tIWa8EGnkFYk"
      },
      "execution_count": null,
      "outputs": []
    }
  ]
}