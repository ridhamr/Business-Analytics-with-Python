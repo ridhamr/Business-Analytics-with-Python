{
  "nbformat": 4,
  "nbformat_minor": 0,
  "metadata": {
    "colab": {
      "name": "train_test_split.ipynb",
      "provenance": []
    },
    "kernelspec": {
      "name": "python3",
      "display_name": "Python 3"
    },
    "language_info": {
      "name": "python"
    }
  },
  "cells": [
    {
      "cell_type": "code",
      "execution_count": 1,
      "metadata": {
        "id": "bBTZoFfeMWaQ"
      },
      "outputs": [],
      "source": [
        "import pandas as pd"
      ]
    },
    {
      "cell_type": "code",
      "source": [
        "dataset = pd.read_csv('AAPL.csv')"
      ],
      "metadata": {
        "id": "GBp23kQZMX7-"
      },
      "execution_count": 2,
      "outputs": []
    },
    {
      "cell_type": "code",
      "source": [
        "x = dataset.iloc[:, :-1].values\n",
        "y = dataset.iloc[:, -1].values"
      ],
      "metadata": {
        "id": "eAz_848DMj-Q"
      },
      "execution_count": 3,
      "outputs": []
    },
    {
      "cell_type": "code",
      "source": [
        "x"
      ],
      "metadata": {
        "colab": {
          "base_uri": "https://localhost:8080/"
        },
        "id": "AtAW-UH7M6zt",
        "outputId": "488bfb36-0c7b-4ebf-a7e1-e3512530e8fe"
      },
      "execution_count": 4,
      "outputs": [
        {
          "output_type": "execute_result",
          "data": {
            "text/plain": [
              "array([[  1.],\n",
              "       [  2.],\n",
              "       [  3.],\n",
              "       [  4.],\n",
              "       [  5.],\n",
              "       [  6.],\n",
              "       [  7.],\n",
              "       [  8.],\n",
              "       [  9.],\n",
              "       [ 10.],\n",
              "       [ 11.],\n",
              "       [ 12.],\n",
              "       [ 13.],\n",
              "       [ 14.],\n",
              "       [ 15.],\n",
              "       [ 16.],\n",
              "       [ 17.],\n",
              "       [ 18.],\n",
              "       [ 19.],\n",
              "       [ 20.],\n",
              "       [ 21.],\n",
              "       [ 22.],\n",
              "       [ 23.],\n",
              "       [ 24.],\n",
              "       [ 25.],\n",
              "       [ 26.],\n",
              "       [ 27.],\n",
              "       [ 28.],\n",
              "       [ 29.],\n",
              "       [ 30.],\n",
              "       [ 31.],\n",
              "       [ 32.],\n",
              "       [ 33.],\n",
              "       [ 34.],\n",
              "       [ 35.],\n",
              "       [ 36.],\n",
              "       [ 37.],\n",
              "       [ 38.],\n",
              "       [ 39.],\n",
              "       [ 40.],\n",
              "       [ 41.],\n",
              "       [ 42.],\n",
              "       [ 43.],\n",
              "       [ 44.],\n",
              "       [ 45.],\n",
              "       [ 46.],\n",
              "       [ 47.],\n",
              "       [ 48.],\n",
              "       [ 49.],\n",
              "       [ 50.],\n",
              "       [ 51.],\n",
              "       [ 52.],\n",
              "       [ 53.],\n",
              "       [ 54.],\n",
              "       [ 55.],\n",
              "       [ 56.],\n",
              "       [ 57.],\n",
              "       [ 58.],\n",
              "       [ 59.],\n",
              "       [ 60.],\n",
              "       [ 61.],\n",
              "       [ 62.],\n",
              "       [ 63.],\n",
              "       [ 64.],\n",
              "       [ 65.],\n",
              "       [ 66.],\n",
              "       [ 67.],\n",
              "       [ 68.],\n",
              "       [ 69.],\n",
              "       [ 70.],\n",
              "       [ 71.],\n",
              "       [ 72.],\n",
              "       [ 73.],\n",
              "       [ 74.],\n",
              "       [ 75.],\n",
              "       [ 76.],\n",
              "       [ 77.],\n",
              "       [ 78.],\n",
              "       [ 79.],\n",
              "       [ 80.],\n",
              "       [ 81.],\n",
              "       [ 82.],\n",
              "       [ 83.],\n",
              "       [ 84.],\n",
              "       [ 85.],\n",
              "       [ 86.],\n",
              "       [ 87.],\n",
              "       [ 88.],\n",
              "       [ 89.],\n",
              "       [ 90.],\n",
              "       [ 91.],\n",
              "       [ 92.],\n",
              "       [ 93.],\n",
              "       [ 94.],\n",
              "       [ 95.],\n",
              "       [ 96.],\n",
              "       [ 97.],\n",
              "       [ 98.],\n",
              "       [ 99.],\n",
              "       [100.],\n",
              "       [101.],\n",
              "       [102.],\n",
              "       [103.],\n",
              "       [104.],\n",
              "       [105.],\n",
              "       [106.],\n",
              "       [107.],\n",
              "       [108.],\n",
              "       [109.],\n",
              "       [110.],\n",
              "       [111.],\n",
              "       [112.],\n",
              "       [113.],\n",
              "       [114.],\n",
              "       [115.],\n",
              "       [116.],\n",
              "       [117.],\n",
              "       [118.],\n",
              "       [119.],\n",
              "       [120.],\n",
              "       [121.],\n",
              "       [122.],\n",
              "       [123.],\n",
              "       [124.],\n",
              "       [125.],\n",
              "       [126.],\n",
              "       [127.],\n",
              "       [128.],\n",
              "       [129.],\n",
              "       [130.],\n",
              "       [131.],\n",
              "       [132.],\n",
              "       [133.],\n",
              "       [134.],\n",
              "       [135.],\n",
              "       [136.],\n",
              "       [137.],\n",
              "       [138.],\n",
              "       [139.],\n",
              "       [140.],\n",
              "       [141.],\n",
              "       [142.],\n",
              "       [143.],\n",
              "       [144.],\n",
              "       [145.],\n",
              "       [146.],\n",
              "       [147.],\n",
              "       [148.],\n",
              "       [149.],\n",
              "       [150.],\n",
              "       [151.],\n",
              "       [152.],\n",
              "       [153.],\n",
              "       [154.],\n",
              "       [155.],\n",
              "       [156.],\n",
              "       [157.],\n",
              "       [158.],\n",
              "       [159.],\n",
              "       [160.],\n",
              "       [161.],\n",
              "       [162.],\n",
              "       [163.],\n",
              "       [164.],\n",
              "       [165.],\n",
              "       [166.],\n",
              "       [167.],\n",
              "       [168.],\n",
              "       [169.],\n",
              "       [170.],\n",
              "       [171.],\n",
              "       [172.],\n",
              "       [173.],\n",
              "       [174.],\n",
              "       [175.],\n",
              "       [176.],\n",
              "       [177.],\n",
              "       [178.],\n",
              "       [179.],\n",
              "       [180.],\n",
              "       [181.],\n",
              "       [182.],\n",
              "       [183.],\n",
              "       [184.],\n",
              "       [185.],\n",
              "       [186.],\n",
              "       [187.],\n",
              "       [188.],\n",
              "       [189.],\n",
              "       [190.],\n",
              "       [191.],\n",
              "       [192.],\n",
              "       [193.],\n",
              "       [194.],\n",
              "       [195.],\n",
              "       [196.],\n",
              "       [197.],\n",
              "       [198.],\n",
              "       [199.],\n",
              "       [200.],\n",
              "       [201.],\n",
              "       [202.],\n",
              "       [203.],\n",
              "       [204.],\n",
              "       [205.],\n",
              "       [206.],\n",
              "       [207.],\n",
              "       [208.],\n",
              "       [209.],\n",
              "       [210.],\n",
              "       [211.],\n",
              "       [212.],\n",
              "       [213.],\n",
              "       [214.],\n",
              "       [215.],\n",
              "       [216.],\n",
              "       [217.],\n",
              "       [218.],\n",
              "       [219.],\n",
              "       [220.],\n",
              "       [221.],\n",
              "       [222.],\n",
              "       [223.],\n",
              "       [224.],\n",
              "       [225.],\n",
              "       [226.],\n",
              "       [227.],\n",
              "       [228.],\n",
              "       [229.],\n",
              "       [230.],\n",
              "       [231.],\n",
              "       [232.],\n",
              "       [233.],\n",
              "       [234.],\n",
              "       [235.],\n",
              "       [236.],\n",
              "       [237.],\n",
              "       [238.],\n",
              "       [239.],\n",
              "       [240.],\n",
              "       [241.],\n",
              "       [242.],\n",
              "       [243.],\n",
              "       [244.],\n",
              "       [245.],\n",
              "       [246.],\n",
              "       [247.],\n",
              "       [248.],\n",
              "       [249.],\n",
              "       [250.],\n",
              "       [251.],\n",
              "       [252.],\n",
              "       [253.]])"
            ]
          },
          "metadata": {},
          "execution_count": 4
        }
      ]
    },
    {
      "cell_type": "code",
      "source": [
        "y"
      ],
      "metadata": {
        "colab": {
          "base_uri": "https://localhost:8080/"
        },
        "id": "576tPkenM7RA",
        "outputId": "e2eda903-b114-4dd1-8d78-7217bc803fc8"
      },
      "execution_count": 5,
      "outputs": [
        {
          "output_type": "execute_result",
          "data": {
            "text/plain": [
              "array([148.539993, 150.229996, 149.800003, 145.029999, 147.440002,\n",
              "       148.309998, 149.449997, 149.809998, 148.350006, 147.479996,\n",
              "       149.      , 152.660004, 152.830002, 153.869995, 153.759995,\n",
              "       154.970001, 156.979996, 155.490005, 155.      , 150.630005,\n",
              "       150.350006, 148.559998, 148.440002, 148.820007, 143.800003,\n",
              "       143.929993, 144.449997, 146.649994, 145.660004, 145.470001,\n",
              "       143.25    , 142.470001, 143.660004, 141.899994, 141.759995,\n",
              "       139.490005, 139.470001, 143.059998, 144.029999, 142.270004,\n",
              "       143.229996, 141.240005, 142.110001, 143.770004, 143.449997,\n",
              "       147.009995, 148.699997, 148.809998, 149.690002, 148.679993,\n",
              "       149.330002, 149.360001, 149.820007, 147.220001, 148.990005,\n",
              "       148.660004, 150.389999, 151.580002, 151.889999, 151.410004,\n",
              "       150.199997, 150.020004, 148.960007, 148.429993, 150.369995,\n",
              "       149.940002, 151.      , 153.710007, 157.649994, 161.679993,\n",
              "       161.119995, 160.75    , 159.570007, 159.369995, 159.990005,\n",
              "       167.479996, 158.740005, 164.020004, 164.289993, 169.080002,\n",
              "       172.130005, 174.910004, 175.210007, 181.119995, 175.25    ,\n",
              "       175.110001, 179.279999, 169.929993, 168.279999, 171.559998,\n",
              "       173.039993, 175.850006, 177.089996, 180.160004, 179.330002,\n",
              "       179.470001, 178.089996, 177.830002, 182.630005, 179.610001,\n",
              "       172.699997, 172.889999, 169.080002, 172.320007, 176.119995,\n",
              "       175.779999, 171.339996, 171.509995, 170.      , 166.979996,\n",
              "       164.419998, 160.020004, 158.979996, 163.5     , 162.449997,\n",
              "       165.710007, 170.160004, 174.009995, 174.75    , 174.479996,\n",
              "       171.679993, 172.860001, 171.729996, 176.050003, 174.139999,\n",
              "       172.330002, 167.369995, 170.970001, 171.850006, 171.029999,\n",
              "       169.820007, 164.979996, 165.539993, 152.580002, 163.839996,\n",
              "       163.059998, 164.699997, 164.389999, 168.470001, 164.490005,\n",
              "       163.360001, 158.820007, 161.479996, 160.199997, 158.929993,\n",
              "       151.449997, 150.899994, 157.050003, 158.610001, 160.509995,\n",
              "       163.509995, 165.509995, 167.990005, 171.059998, 173.880005,\n",
              "       172.169998, 176.690002, 178.550003, 177.839996, 174.029999,\n",
              "       174.570007, 177.5     , 172.360001, 171.160004, 171.779999,\n",
              "       168.710007, 168.020004, 167.389999, 170.619995, 163.919998,\n",
              "       165.020004, 168.759995, 168.910004, 166.460007, 161.119995,\n",
              "       162.25    , 155.910004, 159.25    , 161.839996, 156.710007,\n",
              "       158.149994, 159.669998, 163.850006, 156.009995, 154.929993,\n",
              "       155.520004, 153.5     , 142.770004, 144.589996, 145.550003,\n",
              "       148.860001, 146.850006, 139.880005, 139.089996, 137.789993,\n",
              "       140.809998, 138.429993, 137.389999, 145.389999, 149.070007,\n",
              "       149.899994, 147.830002, 146.899994, 147.029999, 144.350006,\n",
              "       148.580002, 147.080002, 140.279999, 132.869995, 133.130005,\n",
              "       134.289993, 132.080002, 130.070007, 133.419998, 134.789993,\n",
              "       136.820007, 139.899994, 142.699997, 142.130005, 137.460007,\n",
              "       137.25    , 136.039993, 137.770004, 141.350006, 143.289993,\n",
              "       145.259995, 145.669998, 145.759995, 142.990005, 144.080002,\n",
              "       149.779999, 150.740005, 147.919998, 151.119995, 154.5     ,\n",
              "       155.389999, 154.009995, 152.259995, 152.580002, 156.979996,\n",
              "       161.240005, 161.009995, 160.100006, 160.839996, 166.009995,\n",
              "       163.210007, 166.369995, 164.020004, 167.679993, 170.059998,\n",
              "       169.820007, 171.520004, 172.779999])"
            ]
          },
          "metadata": {},
          "execution_count": 5
        }
      ]
    },
    {
      "cell_type": "code",
      "source": [
        "from sklearn.model_selection import train_test_split"
      ],
      "metadata": {
        "id": "abutSAtWM8cv"
      },
      "execution_count": 6,
      "outputs": []
    },
    {
      "cell_type": "code",
      "source": [
        "x_train, x_test, y_train, y_test = train_test_split(x, y, test_size = 0.2, random_state = 0)"
      ],
      "metadata": {
        "id": "rKFKHFIDNKbS"
      },
      "execution_count": 7,
      "outputs": []
    },
    {
      "cell_type": "code",
      "source": [
        "from sklearn.linear_model import LinearRegression"
      ],
      "metadata": {
        "id": "1nRn4cpBNos8"
      },
      "execution_count": 8,
      "outputs": []
    },
    {
      "cell_type": "code",
      "source": [
        "regressor = LinearRegression()"
      ],
      "metadata": {
        "id": "e5-_-zt9Nvzs"
      },
      "execution_count": 9,
      "outputs": []
    },
    {
      "cell_type": "code",
      "source": [
        "regressor.fit(x_train, y_train)"
      ],
      "metadata": {
        "colab": {
          "base_uri": "https://localhost:8080/"
        },
        "id": "WCEIOykiN5BI",
        "outputId": "1022a5ac-a898-4a92-dbce-3c2de47dda33"
      },
      "execution_count": 10,
      "outputs": [
        {
          "output_type": "execute_result",
          "data": {
            "text/plain": [
              "LinearRegression()"
            ]
          },
          "metadata": {},
          "execution_count": 10
        }
      ]
    },
    {
      "cell_type": "code",
      "source": [
        "y_pred = regressor.predict(x_test)"
      ],
      "metadata": {
        "id": "BGu2qLb-N_P-"
      },
      "execution_count": 11,
      "outputs": []
    },
    {
      "cell_type": "code",
      "source": [
        "import matplotlib.pyplot as plt"
      ],
      "metadata": {
        "id": "9MCr3g1gOK1r"
      },
      "execution_count": 12,
      "outputs": []
    },
    {
      "cell_type": "code",
      "source": [
        "plt.scatter(x_test, y_test, color='red')\n",
        "plt.scatter(x_train, y_train, color='green')\n",
        "plt.plot(x_test, y_pred, color='blue')\n",
        "plt.xlabel('Volume')\n",
        "plt.ylabel('Profit')\n",
        "plt.show()"
      ],
      "metadata": {
        "colab": {
          "base_uri": "https://localhost:8080/",
          "height": 279
        },
        "id": "Z7Z7sm6uOO1Z",
        "outputId": "fe49c99b-b3d6-4375-bcb7-835769034f83"
      },
      "execution_count": 13,
      "outputs": [
        {
          "output_type": "display_data",
          "data": {
            "text/plain": [
              "<Figure size 432x288 with 1 Axes>"
            ],
            "image/png": "[encoded data removed]"
          },
          "metadata": {
            "needs_background": "light"
          }
        }
      ]
    }
  ]
}