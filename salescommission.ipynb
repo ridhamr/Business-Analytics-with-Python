{
  "nbformat": 4,
  "nbformat_minor": 0,
  "metadata": {
    "colab": {
      "name": "salescommission.ipynb",
      "provenance": []
    },
    "kernelspec": {
      "name": "python3",
      "display_name": "Python 3"
    },
    "language_info": {
      "name": "python"
    }
  },
  "cells": [
    {
      "cell_type": "code",
      "execution_count": 8,
      "metadata": {
        "colab": {
          "base_uri": "https://localhost:8080/"
        },
        "id": "y4MGRXQDuCh8",
        "outputId": "c53fcd39-d87e-4ce8-ffa4-43b137ac349b"
      },
      "outputs": [
        {
          "output_type": "stream",
          "name": "stdout",
          "text": [
            "Enter selling price50000\n",
            "Enter actual price30000\n",
            "Your commission is 9500.0\n"
          ]
        }
      ],
      "source": [
        "s=int(input('Enter selling price'))\n",
        "c=int(input('Enter actual price'))\n",
        "p=s-c\n",
        "if s>50000:\n",
        "  print('You cannot sell the product at this price')\n",
        "if s>40000 and s<=50000:\n",
        "  n=(s-40000)/1000\n",
        "  t=0\n",
        "  x=0\n",
        "  while x<=n:\n",
        "    t=t+x\n",
        "    x=x+1\n",
        "  print('Your commission is',((10/100)*40000)+(t*100)) \n",
        "if s==40000:\n",
        "  print('Your commission is',(10/100)*p)\n",
        "if s<40000 and s>35000:\n",
        "  print('Your commission is',(5/100)*p)\n",
        "if s<35000 and s>32000:\n",
        "  print('Your commission is',(1/100)*p)\n",
        "if s<32000:\n",
        "  print('Your commission is',(0.1/100)*p)\n"
      ]
    },
    {
      "cell_type": "code",
      "source": [
        ""
      ],
      "metadata": {
        "id": "nGeCJo6Oxbdi"
      },
      "execution_count": null,
      "outputs": []
    }
  ]
}