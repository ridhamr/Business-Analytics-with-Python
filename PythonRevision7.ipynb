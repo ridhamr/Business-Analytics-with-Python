{
  "nbformat": 4,
  "nbformat_minor": 0,
  "metadata": {
    "colab": {
      "provenance": []
    },
    "kernelspec": {
      "name": "python3",
      "display_name": "Python 3"
    },
    "language_info": {
      "name": "python"
    }
  },
  "cells": [
    {
      "cell_type": "code",
      "execution_count": null,
      "metadata": {
        "colab": {
          "base_uri": "https://localhost:8080/"
        },
        "id": "sx_ocabWwhdb",
        "outputId": "a740d90e-85f5-4bbd-84c6-04f636862e36"
      },
      "outputs": [
        {
          "output_type": "stream",
          "name": "stdout",
          "text": [
            "This is \"Python\" programming\n"
          ]
        }
      ],
      "source": [
        "x=\"This is \\\"Python\\\" programming\"\n",
        "print(x)"
      ]
    },
    {
      "cell_type": "code",
      "source": [
        "#In order to print \" or ' without affecting the code, type \\ along with ' or \"\n",
        "x=\"He\\'s a doctor\"\n",
        "print(x)"
      ],
      "metadata": {
        "colab": {
          "base_uri": "https://localhost:8080/"
        },
        "id": "YBRR4hioxh-_",
        "outputId": "a95a1dbc-f7a0-4802-c0b7-62529dfc2f63"
      },
      "execution_count": null,
      "outputs": [
        {
          "output_type": "stream",
          "name": "stdout",
          "text": [
            "He's a doctor\n"
          ]
        }
      ]
    },
    {
      "cell_type": "code",
      "source": [
        "print(\"\\\"Ridha\\\" M R\")"
      ],
      "metadata": {
        "colab": {
          "base_uri": "https://localhost:8080/"
        },
        "id": "9przk2f1yo1i",
        "outputId": "9c35a682-663d-4a04-fb34-a51f8b0e5114"
      },
      "execution_count": null,
      "outputs": [
        {
          "output_type": "stream",
          "name": "stdout",
          "text": [
            "\"Ridha\" M R\n"
          ]
        }
      ]
    },
    {
      "cell_type": "code",
      "source": [
        "x=\"He\\'s a doctor\"\n",
        "print(x)"
      ],
      "metadata": {
        "colab": {
          "base_uri": "https://localhost:8080/"
        },
        "id": "dc9i-fWLztMt",
        "outputId": "01bb7878-c9d3-4357-b939-f497c5fc382d"
      },
      "execution_count": null,
      "outputs": [
        {
          "output_type": "stream",
          "name": "stdout",
          "text": [
            "He's a doctor\n"
          ]
        }
      ]
    },
    {
      "cell_type": "code",
      "source": [
        "x=\"Ridha \\n M R\"\n",
        "print(x)"
      ],
      "metadata": {
        "colab": {
          "base_uri": "https://localhost:8080/"
        },
        "id": "d75uks6w0YOE",
        "outputId": "42f40324-3a75-49fe-dfe8-07be7ba55f74"
      },
      "execution_count": null,
      "outputs": [
        {
          "output_type": "stream",
          "name": "stdout",
          "text": [
            "Ridha \n",
            " M R\n"
          ]
        }
      ]
    },
    {
      "cell_type": "code",
      "source": [
        "import math"
      ],
      "metadata": {
        "id": "P6rOWE1M1KDZ"
      },
      "execution_count": null,
      "outputs": []
    },
    {
      "cell_type": "code",
      "source": [
        "x=[\"John\",\"Mary\",\"David\",\"Adam\"]\n",
        "x[2:4]=[\"Mathew\",\"James\"]\n",
        "print(x)"
      ],
      "metadata": {
        "colab": {
          "base_uri": "https://localhost:8080/"
        },
        "id": "sM9z0M-l2FkR",
        "outputId": "60fb8f9a-5d39-443e-a05c-388c2a592c6d"
      },
      "execution_count": null,
      "outputs": [
        {
          "output_type": "stream",
          "name": "stdout",
          "text": [
            "['John', 'Mary', 'Mathew', 'James']\n"
          ]
        }
      ]
    },
    {
      "cell_type": "code",
      "source": [
        "x=[\"John\",\"Mary\",\"David\",\"Adam\"]\n",
        "print(x)\n",
        "y=input(\"Enter name: \")\n",
        "z=int(input(\"Enter desired location: \"))\n",
        "x[z]=y\n",
        "print(x)"
      ],
      "metadata": {
        "colab": {
          "base_uri": "https://localhost:8080/"
        },
        "id": "JsHDMcxV3Jqy",
        "outputId": "42f0f4e7-75ed-4afb-cb86-2eb3c06ab100"
      },
      "execution_count": null,
      "outputs": [
        {
          "output_type": "stream",
          "name": "stdout",
          "text": [
            "['John', 'Mary', 'David', 'Adam']\n",
            "Enter name: Mathew\n",
            "Enter desired location: 2\n",
            "['John', 'Mary', 'Mathew', 'Adam']\n"
          ]
        }
      ]
    },
    {
      "cell_type": "code",
      "source": [
        "#Using insert function\n",
        "x=[\"John\",\"Mary\",\"David\",\"Adam\"]\n",
        "print(x)\n",
        "y=input(\"Enter name: \")\n",
        "z=int(input(\"Enter desired location: \"))\n",
        "x.insert(z,y)\n",
        "print(x)"
      ],
      "metadata": {
        "colab": {
          "base_uri": "https://localhost:8080/"
        },
        "id": "8aPackeW3w4z",
        "outputId": "b57aded8-d7c1-4d7b-ac5a-60b86994ef75"
      },
      "execution_count": null,
      "outputs": [
        {
          "output_type": "stream",
          "name": "stdout",
          "text": [
            "['John', 'Mary', 'David', 'Adam']\n",
            "Enter name: Mariam\n",
            "Enter desired location: 1\n",
            "['John', 'Mariam', 'Mary', 'David', 'Adam']\n"
          ]
        }
      ]
    },
    {
      "cell_type": "code",
      "source": [
        "#Creating a function\n",
        "def angel(): \n",
        "  y=input(\"Enter name: \")\n",
        "  z=int(input(\"Enter desired location: \"))\n",
        "  x.insert(z,y)\n",
        "  print(x)"
      ],
      "metadata": {
        "id": "-ATJXJUp8Mla"
      },
      "execution_count": 21,
      "outputs": []
    },
    {
      "cell_type": "code",
      "source": [
        "x"
      ],
      "metadata": {
        "colab": {
          "base_uri": "https://localhost:8080/"
        },
        "id": "0p-jHIu_9-Va",
        "outputId": "217b48c5-b41e-4fcd-f6ca-1c17ffffeb9d"
      },
      "execution_count": 24,
      "outputs": [
        {
          "output_type": "execute_result",
          "data": {
            "text/plain": [
              "['John', 'Mariam', 'Angel', 'angel', 'Angel', 'Mary', 'David', 'Adam']"
            ]
          },
          "metadata": {},
          "execution_count": 24
        }
      ]
    },
    {
      "cell_type": "code",
      "source": [
        "del x[2:5]"
      ],
      "metadata": {
        "id": "sf5LHup9-Lit"
      },
      "execution_count": 29,
      "outputs": []
    },
    {
      "cell_type": "code",
      "source": [
        "x"
      ],
      "metadata": {
        "colab": {
          "base_uri": "https://localhost:8080/"
        },
        "id": "hbpCSVih_I61",
        "outputId": "de7558dd-b7d3-4a0c-fe81-ef86cc30c052"
      },
      "execution_count": 30,
      "outputs": [
        {
          "output_type": "execute_result",
          "data": {
            "text/plain": [
              "['John', 'Mariam', 'Adam']"
            ]
          },
          "metadata": {},
          "execution_count": 30
        }
      ]
    },
    {
      "cell_type": "code",
      "source": [
        "angel()"
      ],
      "metadata": {
        "colab": {
          "base_uri": "https://localhost:8080/"
        },
        "id": "rnvqXRYB_dzc",
        "outputId": "1b9e7f0a-273e-4b63-a6f8-71c45a2c6734"
      },
      "execution_count": 31,
      "outputs": [
        {
          "output_type": "stream",
          "name": "stdout",
          "text": [
            "Enter name: Angel\n",
            "Enter desired location: 2\n",
            "['John', 'Mariam', 'Angel', 'Adam']\n"
          ]
        }
      ]
    },
    {
      "cell_type": "code",
      "source": [
        "def calculator():\n",
        "  x=int(input(\"Enter 1st number: \"))\n",
        "  y=int(input(\"Enter 2nd number: \"))\n",
        "  print(\"Addition\", x+y)\n",
        "  print(\"Subtraction\", x-y)\n",
        "  print(\"Multiplication\", x*y)\n",
        "  print(\"Division\", x/y)"
      ],
      "metadata": {
        "id": "aQTIEt2K_lxa"
      },
      "execution_count": 33,
      "outputs": []
    },
    {
      "cell_type": "code",
      "source": [
        "calculator()"
      ],
      "metadata": {
        "colab": {
          "base_uri": "https://localhost:8080/"
        },
        "id": "zyl7Rv4OBQna",
        "outputId": "aa889b48-5bc3-4b10-bf0d-0922ed590353"
      },
      "execution_count": 34,
      "outputs": [
        {
          "output_type": "stream",
          "name": "stdout",
          "text": [
            "Enter 1st number: 5\n",
            "Enter 2nd number: 4\n",
            "Addition 9\n",
            "Subtraction 1\n",
            "Multiplication 20\n",
            "Division 1.25\n"
          ]
        }
      ]
    },
    {
      "cell_type": "code",
      "source": [
        "def math(a,b):\n",
        "  print(a+b)"
      ],
      "metadata": {
        "id": "lnEubxhjBYmW"
      },
      "execution_count": 35,
      "outputs": []
    },
    {
      "cell_type": "code",
      "source": [
        "#It transfers the values of x and y to a and b\n",
        "x=int(input(\"Enter 1st number: \"))\n",
        "y=int(input(\"Enter 2nd number: \"))\n",
        "math(x,y)"
      ],
      "metadata": {
        "colab": {
          "base_uri": "https://localhost:8080/"
        },
        "id": "X-mDYOFkEMtS",
        "outputId": "c652ce8f-f023-41d0-b3cb-63280bb88299"
      },
      "execution_count": 36,
      "outputs": [
        {
          "output_type": "stream",
          "name": "stdout",
          "text": [
            "Enter 1st number: 5\n",
            "Enter 2nd number: 10\n",
            "15\n"
          ]
        }
      ]
    },
    {
      "cell_type": "code",
      "source": [
        "def add():\n",
        "  x=int(input(\"Enter 1st number: \"))\n",
        "  y=int(input(\"Enter 2nd number: \"))\n",
        "  print(x+y)"
      ],
      "metadata": {
        "id": "QmT2zHT8FGmU"
      },
      "execution_count": 40,
      "outputs": []
    },
    {
      "cell_type": "code",
      "source": [
        "add()"
      ],
      "metadata": {
        "colab": {
          "base_uri": "https://localhost:8080/"
        },
        "id": "exiegWzIEZsv",
        "outputId": "6e5d4596-c5d9-4861-d6b0-996cebd1804b"
      },
      "execution_count": 41,
      "outputs": [
        {
          "output_type": "stream",
          "name": "stdout",
          "text": [
            "Enter 1st number: 4\n",
            "Enter 2nd number: 3\n",
            "7\n"
          ]
        }
      ]
    },
    {
      "cell_type": "code",
      "source": [
        "def subtract():\n",
        "  x=int(input(\"Enter 1st number: \"))\n",
        "  y=int(input(\"Enter 2nd number: \"))\n",
        "  print(x-y)"
      ],
      "metadata": {
        "id": "MHaanYWgFjDR"
      },
      "execution_count": 42,
      "outputs": []
    },
    {
      "cell_type": "code",
      "source": [
        "subtract()"
      ],
      "metadata": {
        "colab": {
          "base_uri": "https://localhost:8080/"
        },
        "id": "lj481-U8F0uR",
        "outputId": "1ab1e0a1-8e80-49b5-bf77-c6e7ec77d7ce"
      },
      "execution_count": 43,
      "outputs": [
        {
          "output_type": "stream",
          "name": "stdout",
          "text": [
            "Enter 1st number: 7\n",
            "Enter 2nd number: 9\n",
            "-2\n"
          ]
        }
      ]
    },
    {
      "cell_type": "code",
      "source": [
        "def multiply():\n",
        "  x=int(input(\"Enter 1st number: \"))\n",
        "  y=int(input(\"Enter 2nd number: \"))\n",
        "  print(x*y)"
      ],
      "metadata": {
        "id": "uB74IG9cF2uC"
      },
      "execution_count": 44,
      "outputs": []
    },
    {
      "cell_type": "code",
      "source": [
        "multiply()"
      ],
      "metadata": {
        "colab": {
          "base_uri": "https://localhost:8080/"
        },
        "id": "aHJPTe8-GN3g",
        "outputId": "8fd13538-7404-40d6-b58f-c20f70bbcd2e"
      },
      "execution_count": 45,
      "outputs": [
        {
          "output_type": "stream",
          "name": "stdout",
          "text": [
            "Enter 1st number: 5\n",
            "Enter 2nd number: 8\n",
            "40\n"
          ]
        }
      ]
    },
    {
      "cell_type": "code",
      "source": [
        "def divide():\n",
        "  x=int(input(\"Enter 1st number: \"))\n",
        "  y=int(input(\"Enter 2nd number: \"))\n",
        "  print(x/y)"
      ],
      "metadata": {
        "id": "7KMmd0_SGPeg"
      },
      "execution_count": 46,
      "outputs": []
    },
    {
      "cell_type": "code",
      "source": [
        "divide()"
      ],
      "metadata": {
        "colab": {
          "base_uri": "https://localhost:8080/"
        },
        "id": "T-Bd0J9HGZpv",
        "outputId": "cf2a8c7b-a35a-4916-879a-562c70967461"
      },
      "execution_count": 47,
      "outputs": [
        {
          "output_type": "stream",
          "name": "stdout",
          "text": [
            "Enter 1st number: 75\n",
            "Enter 2nd number: 10\n",
            "7.5\n"
          ]
        }
      ]
    }
  ]
}