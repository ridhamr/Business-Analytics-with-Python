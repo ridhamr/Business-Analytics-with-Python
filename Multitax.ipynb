{
  "nbformat": 4,
  "nbformat_minor": 0,
  "metadata": {
    "colab": {
      "name": "Multitax.ipynb",
      "provenance": []
    },
    "kernelspec": {
      "name": "python3",
      "display_name": "Python 3"
    },
    "language_info": {
      "name": "python"
    }
  },
  "cells": [
    {
      "cell_type": "code",
      "source": [
        "a=int(input('Enter your basic salary'))\n",
        "b=int(input('Enter your house rent allowance'))\n",
        "c=int(input('Enter your special allowance'))\n",
        "d=int(input('Enter your travel allowance'))\n",
        "if a<250000:\n",
        "  x=0\n",
        "  print('You are not taxable')\n",
        "if a>250000 and a<500000:\n",
        "  x=(a-250000)*5/100\n",
        "  print('Your tax amount on your basic salary is','',x)\n",
        "if a>500000 and a<750000:\n",
        "  x=((a-500000)*10/100)+(250000*5/100)\n",
        "  print('Your tax amount on your basic salary is','',x)\n",
        "if a>750000 and a<1000000:\n",
        "  x=((a-750000)*20/100)+(250000*10/100)+(250000*5/100)\n",
        "  print('Your tax amount on your basic salary is','',x)\n",
        "if a>1000000:\n",
        "  x=((a-1000000)*30/100)+(250000*20/100)+(250000*10/100)+(250000*5/100)\n",
        "  print('Your tax amount on your basic salary is','',x)\n",
        "if b>a:\n",
        "  if b<250000:\n",
        "    y=0\n",
        "    print('You are not taxable on your HRA')\n",
        "  if b>250000 and b<500000:\n",
        "    y=(b-250000)*5/100\n",
        "    print('Your tax amount on your HRA is','',y)\n",
        "  if b>500000 and b<750000:\n",
        "    y=((b-500000)*10/100)+(250000*5/100)\n",
        "    print('Your tax amount on your HRA is','',y)\n",
        "  if b>750000 and b<1000000:\n",
        "    y=((b-750000)*20/100)+(250000*10/100)+(250000*5/100)\n",
        "    print('Your tax amount on your HRA is','',y)\n",
        "  if b>1000000:\n",
        "    y=((b-1000000)*30/100)+(250000*20/100)+(250000*10/100)+(250000*5/100)\n",
        "    print('Your tax amount on your HRA is','',y)\n",
        "if b<a:\n",
        "  y=b*10/100\n",
        "  print('Your tax amount on your HRA is',y)\n",
        "if (x+y)>1000000:\n",
        "  z=0\n",
        "  print('You are not taxed on your special allowance')\n",
        "if (x+y)<1000000:\n",
        "  z=c*10/100\n",
        "  print('Your tax amount on your special allowance is','',z)\n",
        "TT=x+y+z\n",
        "print('Your total tax amount is','',TT)\n",
        "\n",
        "\n"
      ],
      "metadata": {
        "colab": {
          "base_uri": "https://localhost:8080/"
        },
        "id": "juAHqY2oSGhP",
        "outputId": "fcd7cf2e-6ee4-4fcc-9fc3-8b40fa59b5c1"
      },
      "execution_count": 3,
      "outputs": [
        {
          "output_type": "stream",
          "name": "stdout",
          "text": [
            "Enter your basic salary900000\n",
            "Enter your house rent allowance200000\n",
            "Enter your special allowance100000\n",
            "Enter your travel allowance95000\n",
            "Your tax amount on your basic salary is  67500.0\n",
            "Your tax amount on your HRA is 20000.0\n",
            "Your tax amount on your special allowance is  10000.0\n",
            "Your total tax amount is  97500.0\n"
          ]
        }
      ]
    },
    {
      "cell_type": "code",
      "source": [
        ""
      ],
      "metadata": {
        "id": "hZmpf3WbozKn"
      },
      "execution_count": null,
      "outputs": []
    }
  ]
}