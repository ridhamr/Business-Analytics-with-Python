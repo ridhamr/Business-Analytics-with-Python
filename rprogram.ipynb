{
  "nbformat": 4,
  "nbformat_minor": 0,
  "metadata": {
    "colab": {
      "provenance": []
    },
    "kernelspec": {
      "name": "ir",
      "display_name": "R"
    },
    "language_info": {
      "name": "R"
    }
  },
  "cells": [
    {
      "cell_type": "code",
      "source": [
        "x=10\n",
        "y=20"
      ],
      "metadata": {
        "id": "M_n6TpEeeUxc"
      },
      "execution_count": 1,
      "outputs": []
    },
    {
      "cell_type": "code",
      "execution_count": 2,
      "metadata": {
        "colab": {
          "base_uri": "https://localhost:8080/",
          "height": 34
        },
        "id": "aV93y9WMcjoS",
        "outputId": "f9e0a87d-7a61-489d-ae2e-b6af63a24706"
      },
      "outputs": [
        {
          "output_type": "display_data",
          "data": {
            "text/html": [
              "30"
            ],
            "text/markdown": "30",
            "text/latex": "30",
            "text/plain": [
              "[1] 30"
            ]
          },
          "metadata": {}
        }
      ],
      "source": [
        "x+y"
      ]
    },
    {
      "cell_type": "code",
      "source": [
        "x-y"
      ],
      "metadata": {
        "colab": {
          "base_uri": "https://localhost:8080/",
          "height": 34
        },
        "id": "sl4RNJ1WebeW",
        "outputId": "a5aa0c76-3e46-430c-9469-f74e18721189"
      },
      "execution_count": 3,
      "outputs": [
        {
          "output_type": "display_data",
          "data": {
            "text/html": [
              "-10"
            ],
            "text/markdown": "-10",
            "text/latex": "-10",
            "text/plain": [
              "[1] -10"
            ]
          },
          "metadata": {}
        }
      ]
    },
    {
      "cell_type": "code",
      "source": [
        "x*y"
      ],
      "metadata": {
        "colab": {
          "base_uri": "https://localhost:8080/",
          "height": 34
        },
        "id": "C9lG_bq9ecOk",
        "outputId": "bdfedfb1-05bb-4241-eaea-e83178dae4dc"
      },
      "execution_count": 4,
      "outputs": [
        {
          "output_type": "display_data",
          "data": {
            "text/html": [
              "200"
            ],
            "text/markdown": "200",
            "text/latex": "200",
            "text/plain": [
              "[1] 200"
            ]
          },
          "metadata": {}
        }
      ]
    },
    {
      "cell_type": "code",
      "source": [
        "x/y"
      ],
      "metadata": {
        "colab": {
          "base_uri": "https://localhost:8080/",
          "height": 34
        },
        "id": "UA5j_NAXedKm",
        "outputId": "76000170-0b1c-4f49-e3d0-50cfd0faabea"
      },
      "execution_count": 6,
      "outputs": [
        {
          "output_type": "display_data",
          "data": {
            "text/html": [
              "0.5"
            ],
            "text/markdown": "0.5",
            "text/latex": "0.5",
            "text/plain": [
              "[1] 0.5"
            ]
          },
          "metadata": {}
        }
      ]
    },
    {
      "cell_type": "code",
      "source": [
        "x<-10"
      ],
      "metadata": {
        "id": "wNyBWzYteeRB"
      },
      "execution_count": 7,
      "outputs": []
    },
    {
      "cell_type": "code",
      "source": [
        "y<-20"
      ],
      "metadata": {
        "id": "4a7l2TwSfomA"
      },
      "execution_count": 8,
      "outputs": []
    },
    {
      "cell_type": "code",
      "source": [
        "x+y"
      ],
      "metadata": {
        "colab": {
          "base_uri": "https://localhost:8080/",
          "height": 34
        },
        "id": "zt1DF5Xhf1_B",
        "outputId": "a818a642-dafa-446d-e222-2a93edbed90e"
      },
      "execution_count": 9,
      "outputs": [
        {
          "output_type": "display_data",
          "data": {
            "text/html": [
              "30"
            ],
            "text/markdown": "30",
            "text/latex": "30",
            "text/plain": [
              "[1] 30"
            ]
          },
          "metadata": {}
        }
      ]
    },
    {
      "cell_type": "code",
      "source": [
        "x=\"Ridha M R\""
      ],
      "metadata": {
        "id": "qgWOwxgvf4cr"
      },
      "execution_count": 10,
      "outputs": []
    },
    {
      "cell_type": "code",
      "source": [
        "x=10"
      ],
      "metadata": {
        "id": "wky9QobAgMh8"
      },
      "execution_count": 17,
      "outputs": []
    },
    {
      "cell_type": "code",
      "source": [
        "class(x)"
      ],
      "metadata": {
        "colab": {
          "base_uri": "https://localhost:8080/",
          "height": 34
        },
        "id": "Kb04f_MfguL_",
        "outputId": "1140b9d9-b1bd-4d43-bed6-589b20cfa43a"
      },
      "execution_count": 18,
      "outputs": [
        {
          "output_type": "display_data",
          "data": {
            "text/html": [
              "'numeric'"
            ],
            "text/markdown": "'numeric'",
            "text/latex": "'numeric'",
            "text/plain": [
              "[1] \"numeric\""
            ]
          },
          "metadata": {}
        }
      ]
    },
    {
      "cell_type": "code",
      "source": [
        "x=\"India\""
      ],
      "metadata": {
        "id": "W3qytIVxgwWb"
      },
      "execution_count": 19,
      "outputs": []
    },
    {
      "cell_type": "code",
      "source": [
        "class(x)"
      ],
      "metadata": {
        "colab": {
          "base_uri": "https://localhost:8080/",
          "height": 34
        },
        "id": "Vhnszmiwg4un",
        "outputId": "6f777177-2638-418c-fe52-8bb9471a6d49"
      },
      "execution_count": 20,
      "outputs": [
        {
          "output_type": "display_data",
          "data": {
            "text/html": [
              "'character'"
            ],
            "text/markdown": "'character'",
            "text/latex": "'character'",
            "text/plain": [
              "[1] \"character\""
            ]
          },
          "metadata": {}
        }
      ]
    },
    {
      "cell_type": "code",
      "source": [
        "x=readline()"
      ],
      "metadata": {
        "colab": {
          "base_uri": "https://localhost:8080/"
        },
        "id": "MudJEMIlhJo0",
        "outputId": "70e2ff68-6e68-41e1-e741-42a3b4efe73d"
      },
      "execution_count": 22,
      "outputs": [
        {
          "name": "stdout",
          "output_type": "stream",
          "text": [
            "10\n"
          ]
        }
      ]
    },
    {
      "cell_type": "code",
      "source": [
        "x"
      ],
      "metadata": {
        "colab": {
          "base_uri": "https://localhost:8080/",
          "height": 34
        },
        "id": "p9FDHiX0hutz",
        "outputId": "f5f52784-44eb-484b-ab9b-2627f0d48f40"
      },
      "execution_count": 23,
      "outputs": [
        {
          "output_type": "display_data",
          "data": {
            "text/html": [
              "'10'"
            ],
            "text/markdown": "'10'",
            "text/latex": "'10'",
            "text/plain": [
              "[1] \"10\""
            ]
          },
          "metadata": {}
        }
      ]
    },
    {
      "cell_type": "code",
      "source": [
        "class(x)"
      ],
      "metadata": {
        "colab": {
          "base_uri": "https://localhost:8080/",
          "height": 34
        },
        "id": "z4VmYUQBh4wz",
        "outputId": "771a2eeb-6f41-4f4e-fa7f-418dbc8968aa"
      },
      "execution_count": 24,
      "outputs": [
        {
          "output_type": "display_data",
          "data": {
            "text/html": [
              "'character'"
            ],
            "text/markdown": "'character'",
            "text/latex": "'character'",
            "text/plain": [
              "[1] \"character\""
            ]
          },
          "metadata": {}
        }
      ]
    },
    {
      "cell_type": "code",
      "source": [
        "y=as.integer(x)"
      ],
      "metadata": {
        "id": "ZpRmXCKdiyHl"
      },
      "execution_count": 26,
      "outputs": []
    },
    {
      "cell_type": "code",
      "source": [
        "class(y)"
      ],
      "metadata": {
        "colab": {
          "base_uri": "https://localhost:8080/",
          "height": 34
        },
        "id": "fwx5r5bCi1zi",
        "outputId": "238d3bc9-60c9-4324-a25d-17be335c1862"
      },
      "execution_count": 28,
      "outputs": [
        {
          "output_type": "display_data",
          "data": {
            "text/html": [
              "'integer'"
            ],
            "text/markdown": "'integer'",
            "text/latex": "'integer'",
            "text/plain": [
              "[1] \"integer\""
            ]
          },
          "metadata": {}
        }
      ]
    },
    {
      "cell_type": "code",
      "source": [
        "p=as.integer(readline())"
      ],
      "metadata": {
        "colab": {
          "base_uri": "https://localhost:8080/"
        },
        "id": "ZtJiYFFwjfQC",
        "outputId": "30debac7-5f4a-47a6-fce7-a54d91ff694c"
      },
      "execution_count": 35,
      "outputs": [
        {
          "name": "stdout",
          "output_type": "stream",
          "text": [
            "100000\n"
          ]
        }
      ]
    },
    {
      "cell_type": "code",
      "source": [
        "r=as.integer(readline())"
      ],
      "metadata": {
        "colab": {
          "base_uri": "https://localhost:8080/"
        },
        "id": "WjuEGrIvjwLg",
        "outputId": "2b3938bb-bbc1-4663-d59c-d4ac75a7b20c"
      },
      "execution_count": 36,
      "outputs": [
        {
          "name": "stdout",
          "output_type": "stream",
          "text": [
            "5\n"
          ]
        }
      ]
    },
    {
      "cell_type": "code",
      "source": [
        "t=as.integer(readline())"
      ],
      "metadata": {
        "colab": {
          "base_uri": "https://localhost:8080/"
        },
        "id": "bHT6zCd0jzv8",
        "outputId": "99297a02-9955-497a-dc24-3a0f2c3e78bb"
      },
      "execution_count": 37,
      "outputs": [
        {
          "name": "stdout",
          "output_type": "stream",
          "text": [
            "9\n"
          ]
        }
      ]
    },
    {
      "cell_type": "code",
      "source": [
        "interest=(p*r*t)/100"
      ],
      "metadata": {
        "id": "_0fF10Gtj3H_"
      },
      "execution_count": 38,
      "outputs": []
    },
    {
      "cell_type": "code",
      "source": [
        "interest"
      ],
      "metadata": {
        "colab": {
          "base_uri": "https://localhost:8080/",
          "height": 34
        },
        "id": "9hfU9UXLj_b1",
        "outputId": "35183973-e87c-4880-d828-2b71f8fdf336"
      },
      "execution_count": 39,
      "outputs": [
        {
          "output_type": "display_data",
          "data": {
            "text/html": [
              "45000"
            ],
            "text/markdown": "45000",
            "text/latex": "45000",
            "text/plain": [
              "[1] 45000"
            ]
          },
          "metadata": {}
        }
      ]
    },
    {
      "cell_type": "code",
      "source": [
        "x=as.integer(readline())\n",
        "y=as.integer(readline())\n",
        "x+y\n",
        "x-y\n",
        "x*y\n",
        "x/y"
      ],
      "metadata": {
        "colab": {
          "base_uri": "https://localhost:8080/",
          "height": 121
        },
        "id": "EdsDuV3QkqPs",
        "outputId": "6a0d2758-e46c-4024-91bc-8d615f35dd92"
      },
      "execution_count": 45,
      "outputs": [
        {
          "name": "stdout",
          "output_type": "stream",
          "text": [
            "10\n",
            "20\n"
          ]
        },
        {
          "output_type": "display_data",
          "data": {
            "text/html": [
              "30"
            ],
            "text/markdown": "30",
            "text/latex": "30",
            "text/plain": [
              "[1] 30"
            ]
          },
          "metadata": {}
        },
        {
          "output_type": "display_data",
          "data": {
            "text/html": [
              "-10"
            ],
            "text/markdown": "-10",
            "text/latex": "-10",
            "text/plain": [
              "[1] -10"
            ]
          },
          "metadata": {}
        },
        {
          "output_type": "display_data",
          "data": {
            "text/html": [
              "200"
            ],
            "text/markdown": "200",
            "text/latex": "200",
            "text/plain": [
              "[1] 200"
            ]
          },
          "metadata": {}
        },
        {
          "output_type": "display_data",
          "data": {
            "text/html": [
              "0.5"
            ],
            "text/markdown": "0.5",
            "text/latex": "0.5",
            "text/plain": [
              "[1] 0.5"
            ]
          },
          "metadata": {}
        }
      ]
    },
    {
      "cell_type": "code",
      "source": [
        "x=readline(prompt = \"Enter your marks\")\n",
        "if (x>50)\n",
        "{\n",
        "  print(\"You have passed\")\n",
        "}\n",
        "if (x<50)\n",
        "{\n",
        "  print(\"You have failed\")\n",
        "}"
      ],
      "metadata": {
        "colab": {
          "base_uri": "https://localhost:8080/"
        },
        "id": "q3KRsnGPnAej",
        "outputId": "49464262-fe39-4014-c06b-32f10516390e"
      },
      "execution_count": 47,
      "outputs": [
        {
          "output_type": "stream",
          "name": "stdout",
          "text": [
            "Enter your marks60\n",
            "[1] \"You have passed\"\n"
          ]
        }
      ]
    },
    {
      "cell_type": "code",
      "source": [
        "x=as.integer(readline(prompt = \"Enter your salary\"))\n",
        "if (x>250000)\n",
        "{\n",
        "  print(\"You are taxable\")\n",
        "  print(\"Tax amount is\")\n",
        "  print(x*10/100)\n",
        "}\n",
        "if (x<250000)\n",
        "{\n",
        "  print('You are not taxable')\n",
        "}"
      ],
      "metadata": {
        "colab": {
          "base_uri": "https://localhost:8080/"
        },
        "id": "_ODqvuttqYI4",
        "outputId": "ca79bc7b-8c43-4ffc-c92e-f83cf845b695"
      },
      "execution_count": 51,
      "outputs": [
        {
          "output_type": "stream",
          "name": "stdout",
          "text": [
            "Enter your salary300000\n",
            "[1] \"You are taxable\"\n",
            "[1] \"Tax amount is\"\n",
            "[1] 30000\n"
          ]
        }
      ]
    },
    {
      "cell_type": "code",
      "source": [],
      "metadata": {
        "id": "ua5ormuTrO-B"
      },
      "execution_count": null,
      "outputs": []
    }
  ]
}