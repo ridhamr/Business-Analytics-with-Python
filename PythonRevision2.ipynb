{
  "nbformat": 4,
  "nbformat_minor": 0,
  "metadata": {
    "colab": {
      "provenance": []
    },
    "kernelspec": {
      "name": "python3",
      "display_name": "Python 3"
    },
    "language_info": {
      "name": "python"
    }
  },
  "cells": [
    {
      "cell_type": "code",
      "execution_count": 17,
      "metadata": {
        "colab": {
          "base_uri": "https://localhost:8080/"
        },
        "id": "LbYyi_NwChc1",
        "outputId": "3ea19738-cb6f-416b-d671-229d170d6d7e"
      },
      "outputs": [
        {
          "name": "stdout",
          "output_type": "stream",
          "text": [
            "Enter your marks50\n"
          ]
        }
      ],
      "source": [
        "x=int(input(\"Enter your marks\"))"
      ]
    },
    {
      "cell_type": "code",
      "source": [
        "if x>50 :\n",
        "  print(\"You have passed\")\n",
        "if x<50:\n",
        "  print(\"You have failed\")\n",
        "if x==50:\n",
        "  print(\"You are just pass\")"
      ],
      "metadata": {
        "colab": {
          "base_uri": "https://localhost:8080/"
        },
        "id": "1w13XALmC00C",
        "outputId": "0cdefc4d-5fe3-42f1-90f2-ffefd27310e6"
      },
      "execution_count": 18,
      "outputs": [
        {
          "output_type": "stream",
          "name": "stdout",
          "text": [
            "You are just pass\n"
          ]
        }
      ]
    },
    {
      "cell_type": "code",
      "source": [
        "x=int(input(\"Enter your salary \"))\n",
        "if x>=250000:\n",
        "  print(\"You are taxable\")\n",
        "if x<250000:\n",
        "  print(\"You are not taxable\")"
      ],
      "metadata": {
        "colab": {
          "base_uri": "https://localhost:8080/"
        },
        "id": "Y4nlY24EFdbt",
        "outputId": "b8c15d03-2690-4300-d9ae-78efed4a5adf"
      },
      "execution_count": 20,
      "outputs": [
        {
          "output_type": "stream",
          "name": "stdout",
          "text": [
            "Enter your salary 250000\n",
            "You are taxable\n"
          ]
        }
      ]
    },
    {
      "cell_type": "code",
      "source": [
        "x=int(input(\"Enter your salary \"))\n",
        "if x>=250000:\n",
        "  print(\"You are taxable\")\n",
        "  print(\"Your tax amount is\",(x-250000)*10/100)\n",
        "if x<250000:\n",
        "  print(\"You are not taxable\")"
      ],
      "metadata": {
        "colab": {
          "base_uri": "https://localhost:8080/"
        },
        "id": "KFTRvbdKHmVX",
        "outputId": "d9ab37f7-5f58-4b65-dd84-8180497e5cf7"
      },
      "execution_count": 21,
      "outputs": [
        {
          "output_type": "stream",
          "name": "stdout",
          "text": [
            "Enter your salary 300000\n",
            "You are taxable\n",
            "Your tax amount is 5000.0\n"
          ]
        }
      ]
    },
    {
      "cell_type": "code",
      "source": [
        "x=int(input(\"Enter your salary \"))\n",
        "if x>=250000 and x<500000:\n",
        "  print(\"You are taxable\")\n",
        "  print(\"Your tax amount is\",(x-250000)*10/100)\n",
        "if x>=500000:\n",
        "  print(\"You are taxable\")\n",
        "  print(\"Your tax amount is\",(x-500000)*20/100) \n",
        "if x<250000:\n",
        "  print(\"You are not taxable\")"
      ],
      "metadata": {
        "colab": {
          "base_uri": "https://localhost:8080/"
        },
        "id": "NYiCkBgZIUxx",
        "outputId": "d398a707-4e45-4326-ac2e-597b996c7902"
      },
      "execution_count": 22,
      "outputs": [
        {
          "output_type": "stream",
          "name": "stdout",
          "text": [
            "Enter your salary 600000\n",
            "You are taxable\n",
            "Your tax amount is 20000.0\n"
          ]
        }
      ]
    },
    {
      "cell_type": "markdown",
      "source": [
        "QUESTION"
      ],
      "metadata": {
        "id": "oZkYdLsbLjYI"
      }
    },
    {
      "cell_type": "code",
      "source": [
        "x=int(input(\"Enter your salary \"))\n",
        "if x<=250000:\n",
        "  print(\"You are not taxable\")\n",
        "if x>250000 and x<=500000:\n",
        "  print(\"You are taxable\")\n",
        "  print(\"Your tax amount is\",(x-250000)*5/100)\n",
        "if x>500000 and x<=750000:\n",
        "  print(\"You are taxable\")\n",
        "  print(\"Your tax amount is\",((x-500000)*10/100)+(250000*5/100)) \n",
        "if x>750000 and x<=1000000:\n",
        "  print(\"You are taxable\")\n",
        "  print(\"Your tax amount is\",((x-750000)*15/100)+(250000*5/100)+(500000*10/100)) \n",
        "if x>1000000 and x<=1250000:\n",
        "  print(\"You are taxable\")\n",
        "  print(\"Your tax amount is\",((x-1000000)*20/100)+(250000*5/100)+(500000*10/100)+(750000*15/100)) \n",
        "if x>1250000 and x<=1500000:\n",
        "  print(\"You are taxable\")\n",
        "  print(\"Your tax amount is\",((x-1000000)*25/100)+(250000*5/100)+(500000*10/100)+(750000*15/100)+(1000000*20/100))\n",
        "if x>1500000:\n",
        "  print(\"You are taxable\")\n",
        "  print(\"Your tax amount is\",((x-1500000)*30/100)+(250000*5/100)+(500000*10/100)+(750000*15/100)+(1000000*20/100)+(1250000*25/100))\n"
      ],
      "metadata": {
        "colab": {
          "base_uri": "https://localhost:8080/"
        },
        "id": "Duuvne86Jus0",
        "outputId": "cecdd7f3-bf9c-40c9-a89f-642684debe2d"
      },
      "execution_count": 26,
      "outputs": [
        {
          "output_type": "stream",
          "name": "stdout",
          "text": [
            "Enter your salary 1600000\n",
            "You are taxable\n",
            "Your tax amount is 717500.0\n"
          ]
        }
      ]
    },
    {
      "cell_type": "code",
      "source": [],
      "metadata": {
        "id": "8E6lm4-3ORk2"
      },
      "execution_count": null,
      "outputs": []
    }
  ]
}