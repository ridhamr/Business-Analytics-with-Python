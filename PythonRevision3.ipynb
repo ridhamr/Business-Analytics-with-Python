{
  "nbformat": 4,
  "nbformat_minor": 0,
  "metadata": {
    "colab": {
      "provenance": []
    },
    "kernelspec": {
      "name": "python3",
      "display_name": "Python 3"
    },
    "language_info": {
      "name": "python"
    }
  },
  "cells": [
    {
      "cell_type": "code",
      "execution_count": 5,
      "metadata": {
        "colab": {
          "base_uri": "https://localhost:8080/"
        },
        "id": "lp9-_m0-O-L1",
        "outputId": "5653ac61-15f6-4112-e5f4-fba37c8303bc"
      },
      "outputs": [
        {
          "output_type": "stream",
          "name": "stdout",
          "text": [
            "Enter you salary per month 100000\n",
            "Enter HRA received from employer 500000\n",
            "Enter actual rent paid 10000\n",
            "0.0  is your HRA exemption\n"
          ]
        }
      ],
      "source": [
        "x=int(input(\"Enter you salary per month \"))\n",
        "y=int(input(\"Enter HRA received from employer \"))\n",
        "z=int(input(\"Enter actual rent paid \"))\n",
        "a=(z*12)-(10/100*(x*12))\n",
        "b=50/100*(x*12)\n",
        "if y<a and y<b:\n",
        "  print(y,\" is your HRA exemption\")\n",
        "if a<y and y<b:\n",
        "  print(a,\" is your HRA exemption\")\n",
        "if b<y and b<a:\n",
        "  print(b,\" is your HRA exemption\")"
      ]
    },
    {
      "cell_type": "code",
      "source": [],
      "metadata": {
        "id": "BQIcKZXaYxD-"
      },
      "execution_count": null,
      "outputs": []
    }
  ]
}