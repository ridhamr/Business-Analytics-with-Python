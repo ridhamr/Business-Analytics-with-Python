{
  "nbformat": 4,
  "nbformat_minor": 0,
  "metadata": {
    "colab": {
      "provenance": []
    },
    "kernelspec": {
      "name": "python3",
      "display_name": "Python 3"
    },
    "language_info": {
      "name": "python"
    }
  },
  "cells": [
    {
      "cell_type": "code",
      "execution_count": 1,
      "metadata": {
        "id": "aU4nOBq-f76m"
      },
      "outputs": [],
      "source": [
        "import pandas as pd"
      ]
    },
    {
      "cell_type": "code",
      "source": [
        "import matplotlib.pyplot as plt\n",
        "import numpy as np"
      ],
      "metadata": {
        "id": "Ps5VSvEolqmq"
      },
      "execution_count": 2,
      "outputs": []
    },
    {
      "cell_type": "code",
      "source": [
        "dataset=pd.read_excel(\"ADANIENT.NS.xlsx\")"
      ],
      "metadata": {
        "id": "hzCc68Zsndhk"
      },
      "execution_count": 12,
      "outputs": []
    },
    {
      "cell_type": "code",
      "source": [
        "dataset"
      ],
      "metadata": {
        "colab": {
          "base_uri": "https://localhost:8080/",
          "height": 424
        },
        "id": "aiDp1rM2nq3P",
        "outputId": "bd34f8f3-8a8d-454c-c717-7ca4ad52c4b5"
      },
      "execution_count": 13,
      "outputs": [
        {
          "output_type": "execute_result",
          "data": {
            "text/plain": [
              "     Date     Open\n",
              "0       1  1626.00\n",
              "1       2  1594.00\n",
              "2       3  1603.75\n",
              "3       4  1638.00\n",
              "4       5  1670.00\n",
              "..    ...      ...\n",
              "245   246  1650.00\n",
              "246   247  1626.00\n",
              "247   248  1535.00\n",
              "248   249  1380.00\n",
              "249   250  1410.00\n",
              "\n",
              "[250 rows x 2 columns]"
            ],
            "text/html": [
              "\n",
              "  <div id=\"df-fcbbdd3a-9151-4f57-aa42-5dfd76e9d38b\">\n",
              "    <div class=\"colab-df-container\">\n",
              "      <div>\n",
              "<style scoped>\n",
              "    .dataframe tbody tr th:only-of-type {\n",
              "        vertical-align: middle;\n",
              "    }\n",
              "\n",
              "    .dataframe tbody tr th {\n",
              "        vertical-align: top;\n",
              "    }\n",
              "\n",
              "    .dataframe thead th {\n",
              "        text-align: right;\n",
              "    }\n",
              "</style>\n",
              "<table border=\"1\" class=\"dataframe\">\n",
              "  <thead>\n",
              "    <tr style=\"text-align: right;\">\n",
              "      <th></th>\n",
              "      <th>Date</th>\n",
              "      <th>Open</th>\n",
              "    </tr>\n",
              "  </thead>\n",
              "  <tbody>\n",
              "    <tr>\n",
              "      <th>0</th>\n",
              "      <td>1</td>\n",
              "      <td>1626.00</td>\n",
              "    </tr>\n",
              "    <tr>\n",
              "      <th>1</th>\n",
              "      <td>2</td>\n",
              "      <td>1594.00</td>\n",
              "    </tr>\n",
              "    <tr>\n",
              "      <th>2</th>\n",
              "      <td>3</td>\n",
              "      <td>1603.75</td>\n",
              "    </tr>\n",
              "    <tr>\n",
              "      <th>3</th>\n",
              "      <td>4</td>\n",
              "      <td>1638.00</td>\n",
              "    </tr>\n",
              "    <tr>\n",
              "      <th>4</th>\n",
              "      <td>5</td>\n",
              "      <td>1670.00</td>\n",
              "    </tr>\n",
              "    <tr>\n",
              "      <th>...</th>\n",
              "      <td>...</td>\n",
              "      <td>...</td>\n",
              "    </tr>\n",
              "    <tr>\n",
              "      <th>245</th>\n",
              "      <td>246</td>\n",
              "      <td>1650.00</td>\n",
              "    </tr>\n",
              "    <tr>\n",
              "      <th>246</th>\n",
              "      <td>247</td>\n",
              "      <td>1626.00</td>\n",
              "    </tr>\n",
              "    <tr>\n",
              "      <th>247</th>\n",
              "      <td>248</td>\n",
              "      <td>1535.00</td>\n",
              "    </tr>\n",
              "    <tr>\n",
              "      <th>248</th>\n",
              "      <td>249</td>\n",
              "      <td>1380.00</td>\n",
              "    </tr>\n",
              "    <tr>\n",
              "      <th>249</th>\n",
              "      <td>250</td>\n",
              "      <td>1410.00</td>\n",
              "    </tr>\n",
              "  </tbody>\n",
              "</table>\n",
              "<p>250 rows × 2 columns</p>\n",
              "</div>\n",
              "      <button class=\"colab-df-convert\" onclick=\"convertToInteractive('df-fcbbdd3a-9151-4f57-aa42-5dfd76e9d38b')\"\n",
              "              title=\"Convert this dataframe to an interactive table.\"\n",
              "              style=\"display:none;\">\n",
              "        \n",
              "  <svg xmlns=\"http://www.w3.org/2000/svg\" height=\"24px\"viewBox=\"0 0 24 24\"\n",
              "       width=\"24px\">\n",
              "    <path d=\"M0 0h24v24H0V0z\" fill=\"none\"/>\n",
              "    <path d=\"M18.56 5.44l.94 2.06.94-2.06 2.06-.94-2.06-.94-.94-2.06-.94 2.06-2.06.94zm-11 1L8.5 8.5l.94-2.06 2.06-.94-2.06-.94L8.5 2.5l-.94 2.06-2.06.94zm10 10l.94 2.06.94-2.06 2.06-.94-2.06-.94-.94-2.06-.94 2.06-2.06.94z\"/><path d=\"M17.41 7.96l-1.37-1.37c-.4-.4-.92-.59-1.43-.59-.52 0-1.04.2-1.43.59L10.3 9.45l-7.72 7.72c-.78.78-.78 2.05 0 2.83L4 21.41c.39.39.9.59 1.41.59.51 0 1.02-.2 1.41-.59l7.78-7.78 2.81-2.81c.8-.78.8-2.07 0-2.86zM5.41 20L4 18.59l7.72-7.72 1.47 1.35L5.41 20z\"/>\n",
              "  </svg>\n",
              "      </button>\n",
              "      \n",
              "  <style>\n",
              "    .colab-df-container {\n",
              "      display:flex;\n",
              "      flex-wrap:wrap;\n",
              "      gap: 12px;\n",
              "    }\n",
              "\n",
              "    .colab-df-convert {\n",
              "      background-color: #E8F0FE;\n",
              "      border: none;\n",
              "      border-radius: 50%;\n",
              "      cursor: pointer;\n",
              "      display: none;\n",
              "      fill: #1967D2;\n",
              "      height: 32px;\n",
              "      padding: 0 0 0 0;\n",
              "      width: 32px;\n",
              "    }\n",
              "\n",
              "    .colab-df-convert:hover {\n",
              "      background-color: #E2EBFA;\n",
              "      box-shadow: 0px 1px 2px rgba(60, 64, 67, 0.3), 0px 1px 3px 1px rgba(60, 64, 67, 0.15);\n",
              "      fill: #174EA6;\n",
              "    }\n",
              "\n",
              "    [theme=dark] .colab-df-convert {\n",
              "      background-color: #3B4455;\n",
              "      fill: #D2E3FC;\n",
              "    }\n",
              "\n",
              "    [theme=dark] .colab-df-convert:hover {\n",
              "      background-color: #434B5C;\n",
              "      box-shadow: 0px 1px 3px 1px rgba(0, 0, 0, 0.15);\n",
              "      filter: drop-shadow(0px 1px 2px rgba(0, 0, 0, 0.3));\n",
              "      fill: #FFFFFF;\n",
              "    }\n",
              "  </style>\n",
              "\n",
              "      <script>\n",
              "        const buttonEl =\n",
              "          document.querySelector('#df-fcbbdd3a-9151-4f57-aa42-5dfd76e9d38b button.colab-df-convert');\n",
              "        buttonEl.style.display =\n",
              "          google.colab.kernel.accessAllowed ? 'block' : 'none';\n",
              "\n",
              "        async function convertToInteractive(key) {\n",
              "          const element = document.querySelector('#df-fcbbdd3a-9151-4f57-aa42-5dfd76e9d38b');\n",
              "          const dataTable =\n",
              "            await google.colab.kernel.invokeFunction('convertToInteractive',\n",
              "                                                     [key], {});\n",
              "          if (!dataTable) return;\n",
              "\n",
              "          const docLinkHtml = 'Like what you see? Visit the ' +\n",
              "            '<a target=\"_blank\" href=https://colab.research.google.com/notebooks/data_table.ipynb>data table notebook</a>'\n",
              "            + ' to learn more about interactive tables.';\n",
              "          element.innerHTML = '';\n",
              "          dataTable['output_type'] = 'display_data';\n",
              "          await google.colab.output.renderOutput(dataTable, element);\n",
              "          const docLink = document.createElement('div');\n",
              "          docLink.innerHTML = docLinkHtml;\n",
              "          element.appendChild(docLink);\n",
              "        }\n",
              "      </script>\n",
              "    </div>\n",
              "  </div>\n",
              "  "
            ]
          },
          "metadata": {},
          "execution_count": 13
        }
      ]
    },
    {
      "cell_type": "code",
      "source": [
        "x=dataset.iloc[0:5]"
      ],
      "metadata": {
        "id": "USLk2K64nviv"
      },
      "execution_count": 19,
      "outputs": []
    },
    {
      "cell_type": "code",
      "source": [
        "x"
      ],
      "metadata": {
        "colab": {
          "base_uri": "https://localhost:8080/",
          "height": 206
        },
        "id": "MAsSaYRYpbzA",
        "outputId": "7a49f0a5-6f32-4936-f8ce-2b53f4f793c1"
      },
      "execution_count": 20,
      "outputs": [
        {
          "output_type": "execute_result",
          "data": {
            "text/plain": [
              "   Date     Open\n",
              "0     1  1626.00\n",
              "1     2  1594.00\n",
              "2     3  1603.75\n",
              "3     4  1638.00\n",
              "4     5  1670.00"
            ],
            "text/html": [
              "\n",
              "  <div id=\"df-e2f22641-406d-49d1-bfee-896b01ab5d72\">\n",
              "    <div class=\"colab-df-container\">\n",
              "      <div>\n",
              "<style scoped>\n",
              "    .dataframe tbody tr th:only-of-type {\n",
              "        vertical-align: middle;\n",
              "    }\n",
              "\n",
              "    .dataframe tbody tr th {\n",
              "        vertical-align: top;\n",
              "    }\n",
              "\n",
              "    .dataframe thead th {\n",
              "        text-align: right;\n",
              "    }\n",
              "</style>\n",
              "<table border=\"1\" class=\"dataframe\">\n",
              "  <thead>\n",
              "    <tr style=\"text-align: right;\">\n",
              "      <th></th>\n",
              "      <th>Date</th>\n",
              "      <th>Open</th>\n",
              "    </tr>\n",
              "  </thead>\n",
              "  <tbody>\n",
              "    <tr>\n",
              "      <th>0</th>\n",
              "      <td>1</td>\n",
              "      <td>1626.00</td>\n",
              "    </tr>\n",
              "    <tr>\n",
              "      <th>1</th>\n",
              "      <td>2</td>\n",
              "      <td>1594.00</td>\n",
              "    </tr>\n",
              "    <tr>\n",
              "      <th>2</th>\n",
              "      <td>3</td>\n",
              "      <td>1603.75</td>\n",
              "    </tr>\n",
              "    <tr>\n",
              "      <th>3</th>\n",
              "      <td>4</td>\n",
              "      <td>1638.00</td>\n",
              "    </tr>\n",
              "    <tr>\n",
              "      <th>4</th>\n",
              "      <td>5</td>\n",
              "      <td>1670.00</td>\n",
              "    </tr>\n",
              "  </tbody>\n",
              "</table>\n",
              "</div>\n",
              "      <button class=\"colab-df-convert\" onclick=\"convertToInteractive('df-e2f22641-406d-49d1-bfee-896b01ab5d72')\"\n",
              "              title=\"Convert this dataframe to an interactive table.\"\n",
              "              style=\"display:none;\">\n",
              "        \n",
              "  <svg xmlns=\"http://www.w3.org/2000/svg\" height=\"24px\"viewBox=\"0 0 24 24\"\n",
              "       width=\"24px\">\n",
              "    <path d=\"M0 0h24v24H0V0z\" fill=\"none\"/>\n",
              "    <path d=\"M18.56 5.44l.94 2.06.94-2.06 2.06-.94-2.06-.94-.94-2.06-.94 2.06-2.06.94zm-11 1L8.5 8.5l.94-2.06 2.06-.94-2.06-.94L8.5 2.5l-.94 2.06-2.06.94zm10 10l.94 2.06.94-2.06 2.06-.94-2.06-.94-.94-2.06-.94 2.06-2.06.94z\"/><path d=\"M17.41 7.96l-1.37-1.37c-.4-.4-.92-.59-1.43-.59-.52 0-1.04.2-1.43.59L10.3 9.45l-7.72 7.72c-.78.78-.78 2.05 0 2.83L4 21.41c.39.39.9.59 1.41.59.51 0 1.02-.2 1.41-.59l7.78-7.78 2.81-2.81c.8-.78.8-2.07 0-2.86zM5.41 20L4 18.59l7.72-7.72 1.47 1.35L5.41 20z\"/>\n",
              "  </svg>\n",
              "      </button>\n",
              "      \n",
              "  <style>\n",
              "    .colab-df-container {\n",
              "      display:flex;\n",
              "      flex-wrap:wrap;\n",
              "      gap: 12px;\n",
              "    }\n",
              "\n",
              "    .colab-df-convert {\n",
              "      background-color: #E8F0FE;\n",
              "      border: none;\n",
              "      border-radius: 50%;\n",
              "      cursor: pointer;\n",
              "      display: none;\n",
              "      fill: #1967D2;\n",
              "      height: 32px;\n",
              "      padding: 0 0 0 0;\n",
              "      width: 32px;\n",
              "    }\n",
              "\n",
              "    .colab-df-convert:hover {\n",
              "      background-color: #E2EBFA;\n",
              "      box-shadow: 0px 1px 2px rgba(60, 64, 67, 0.3), 0px 1px 3px 1px rgba(60, 64, 67, 0.15);\n",
              "      fill: #174EA6;\n",
              "    }\n",
              "\n",
              "    [theme=dark] .colab-df-convert {\n",
              "      background-color: #3B4455;\n",
              "      fill: #D2E3FC;\n",
              "    }\n",
              "\n",
              "    [theme=dark] .colab-df-convert:hover {\n",
              "      background-color: #434B5C;\n",
              "      box-shadow: 0px 1px 3px 1px rgba(0, 0, 0, 0.15);\n",
              "      filter: drop-shadow(0px 1px 2px rgba(0, 0, 0, 0.3));\n",
              "      fill: #FFFFFF;\n",
              "    }\n",
              "  </style>\n",
              "\n",
              "      <script>\n",
              "        const buttonEl =\n",
              "          document.querySelector('#df-e2f22641-406d-49d1-bfee-896b01ab5d72 button.colab-df-convert');\n",
              "        buttonEl.style.display =\n",
              "          google.colab.kernel.accessAllowed ? 'block' : 'none';\n",
              "\n",
              "        async function convertToInteractive(key) {\n",
              "          const element = document.querySelector('#df-e2f22641-406d-49d1-bfee-896b01ab5d72');\n",
              "          const dataTable =\n",
              "            await google.colab.kernel.invokeFunction('convertToInteractive',\n",
              "                                                     [key], {});\n",
              "          if (!dataTable) return;\n",
              "\n",
              "          const docLinkHtml = 'Like what you see? Visit the ' +\n",
              "            '<a target=\"_blank\" href=https://colab.research.google.com/notebooks/data_table.ipynb>data table notebook</a>'\n",
              "            + ' to learn more about interactive tables.';\n",
              "          element.innerHTML = '';\n",
              "          dataTable['output_type'] = 'display_data';\n",
              "          await google.colab.output.renderOutput(dataTable, element);\n",
              "          const docLink = document.createElement('div');\n",
              "          docLink.innerHTML = docLinkHtml;\n",
              "          element.appendChild(docLink);\n",
              "        }\n",
              "      </script>\n",
              "    </div>\n",
              "  </div>\n",
              "  "
            ]
          },
          "metadata": {},
          "execution_count": 20
        }
      ]
    },
    {
      "cell_type": "code",
      "source": [
        "x=dataset.iloc[:,:-1].values\n",
        "#first \":\" for rows and second \":\" for columns"
      ],
      "metadata": {
        "id": "z5q-q4KEpdgo"
      },
      "execution_count": 21,
      "outputs": []
    },
    {
      "cell_type": "code",
      "source": [
        "x"
      ],
      "metadata": {
        "colab": {
          "base_uri": "https://localhost:8080/"
        },
        "id": "QgqRno_GqBtw",
        "outputId": "adada529-e001-486a-aab7-4560a5ff5961"
      },
      "execution_count": 22,
      "outputs": [
        {
          "output_type": "execute_result",
          "data": {
            "text/plain": [
              "array([[  1],\n",
              "       [  2],\n",
              "       [  3],\n",
              "       [  4],\n",
              "       [  5],\n",
              "       [  6],\n",
              "       [  7],\n",
              "       [  8],\n",
              "       [  9],\n",
              "       [ 10],\n",
              "       [ 11],\n",
              "       [ 12],\n",
              "       [ 13],\n",
              "       [ 14],\n",
              "       [ 15],\n",
              "       [ 16],\n",
              "       [ 17],\n",
              "       [ 18],\n",
              "       [ 19],\n",
              "       [ 20],\n",
              "       [ 21],\n",
              "       [ 22],\n",
              "       [ 23],\n",
              "       [ 24],\n",
              "       [ 25],\n",
              "       [ 26],\n",
              "       [ 27],\n",
              "       [ 28],\n",
              "       [ 29],\n",
              "       [ 30],\n",
              "       [ 31],\n",
              "       [ 32],\n",
              "       [ 33],\n",
              "       [ 34],\n",
              "       [ 35],\n",
              "       [ 36],\n",
              "       [ 37],\n",
              "       [ 38],\n",
              "       [ 39],\n",
              "       [ 40],\n",
              "       [ 41],\n",
              "       [ 42],\n",
              "       [ 43],\n",
              "       [ 44],\n",
              "       [ 45],\n",
              "       [ 46],\n",
              "       [ 47],\n",
              "       [ 48],\n",
              "       [ 49],\n",
              "       [ 50],\n",
              "       [ 51],\n",
              "       [ 52],\n",
              "       [ 53],\n",
              "       [ 54],\n",
              "       [ 55],\n",
              "       [ 56],\n",
              "       [ 57],\n",
              "       [ 58],\n",
              "       [ 59],\n",
              "       [ 60],\n",
              "       [ 61],\n",
              "       [ 62],\n",
              "       [ 63],\n",
              "       [ 64],\n",
              "       [ 65],\n",
              "       [ 66],\n",
              "       [ 67],\n",
              "       [ 68],\n",
              "       [ 69],\n",
              "       [ 70],\n",
              "       [ 71],\n",
              "       [ 72],\n",
              "       [ 73],\n",
              "       [ 74],\n",
              "       [ 75],\n",
              "       [ 76],\n",
              "       [ 77],\n",
              "       [ 78],\n",
              "       [ 79],\n",
              "       [ 80],\n",
              "       [ 81],\n",
              "       [ 82],\n",
              "       [ 83],\n",
              "       [ 84],\n",
              "       [ 85],\n",
              "       [ 86],\n",
              "       [ 87],\n",
              "       [ 88],\n",
              "       [ 89],\n",
              "       [ 90],\n",
              "       [ 91],\n",
              "       [ 92],\n",
              "       [ 93],\n",
              "       [ 94],\n",
              "       [ 95],\n",
              "       [ 96],\n",
              "       [ 97],\n",
              "       [ 98],\n",
              "       [ 99],\n",
              "       [100],\n",
              "       [101],\n",
              "       [102],\n",
              "       [103],\n",
              "       [104],\n",
              "       [105],\n",
              "       [106],\n",
              "       [107],\n",
              "       [108],\n",
              "       [109],\n",
              "       [110],\n",
              "       [111],\n",
              "       [112],\n",
              "       [113],\n",
              "       [114],\n",
              "       [115],\n",
              "       [116],\n",
              "       [117],\n",
              "       [118],\n",
              "       [119],\n",
              "       [120],\n",
              "       [121],\n",
              "       [122],\n",
              "       [123],\n",
              "       [124],\n",
              "       [125],\n",
              "       [126],\n",
              "       [127],\n",
              "       [128],\n",
              "       [129],\n",
              "       [130],\n",
              "       [131],\n",
              "       [132],\n",
              "       [133],\n",
              "       [134],\n",
              "       [135],\n",
              "       [136],\n",
              "       [137],\n",
              "       [138],\n",
              "       [139],\n",
              "       [140],\n",
              "       [141],\n",
              "       [142],\n",
              "       [143],\n",
              "       [144],\n",
              "       [145],\n",
              "       [146],\n",
              "       [147],\n",
              "       [148],\n",
              "       [149],\n",
              "       [150],\n",
              "       [151],\n",
              "       [152],\n",
              "       [153],\n",
              "       [154],\n",
              "       [155],\n",
              "       [156],\n",
              "       [157],\n",
              "       [158],\n",
              "       [159],\n",
              "       [160],\n",
              "       [161],\n",
              "       [162],\n",
              "       [163],\n",
              "       [164],\n",
              "       [165],\n",
              "       [166],\n",
              "       [167],\n",
              "       [168],\n",
              "       [169],\n",
              "       [170],\n",
              "       [171],\n",
              "       [172],\n",
              "       [173],\n",
              "       [174],\n",
              "       [175],\n",
              "       [176],\n",
              "       [177],\n",
              "       [178],\n",
              "       [179],\n",
              "       [180],\n",
              "       [181],\n",
              "       [182],\n",
              "       [183],\n",
              "       [184],\n",
              "       [185],\n",
              "       [186],\n",
              "       [187],\n",
              "       [188],\n",
              "       [189],\n",
              "       [190],\n",
              "       [191],\n",
              "       [192],\n",
              "       [193],\n",
              "       [194],\n",
              "       [195],\n",
              "       [196],\n",
              "       [197],\n",
              "       [198],\n",
              "       [199],\n",
              "       [200],\n",
              "       [201],\n",
              "       [202],\n",
              "       [203],\n",
              "       [204],\n",
              "       [205],\n",
              "       [206],\n",
              "       [207],\n",
              "       [208],\n",
              "       [209],\n",
              "       [210],\n",
              "       [211],\n",
              "       [212],\n",
              "       [213],\n",
              "       [214],\n",
              "       [215],\n",
              "       [216],\n",
              "       [217],\n",
              "       [218],\n",
              "       [219],\n",
              "       [220],\n",
              "       [221],\n",
              "       [222],\n",
              "       [223],\n",
              "       [224],\n",
              "       [225],\n",
              "       [226],\n",
              "       [227],\n",
              "       [228],\n",
              "       [229],\n",
              "       [230],\n",
              "       [231],\n",
              "       [232],\n",
              "       [233],\n",
              "       [234],\n",
              "       [235],\n",
              "       [236],\n",
              "       [237],\n",
              "       [238],\n",
              "       [239],\n",
              "       [240],\n",
              "       [241],\n",
              "       [242],\n",
              "       [243],\n",
              "       [244],\n",
              "       [245],\n",
              "       [246],\n",
              "       [247],\n",
              "       [248],\n",
              "       [249],\n",
              "       [250]])"
            ]
          },
          "metadata": {},
          "execution_count": 22
        }
      ]
    },
    {
      "cell_type": "code",
      "source": [
        "y=\"Ridha M R\""
      ],
      "metadata": {
        "id": "MIldGjORqFNA"
      },
      "execution_count": 26,
      "outputs": []
    },
    {
      "cell_type": "code",
      "source": [
        "y[0]"
      ],
      "metadata": {
        "colab": {
          "base_uri": "https://localhost:8080/",
          "height": 35
        },
        "id": "b9vIcl0aqnNw",
        "outputId": "d3a4b6bd-b738-4d85-f5fc-692eb9833d5a"
      },
      "execution_count": 27,
      "outputs": [
        {
          "output_type": "execute_result",
          "data": {
            "text/plain": [
              "'R'"
            ],
            "application/vnd.google.colaboratory.intrinsic+json": {
              "type": "string"
            }
          },
          "metadata": {},
          "execution_count": 27
        }
      ]
    },
    {
      "cell_type": "code",
      "source": [
        "y[0:1]"
      ],
      "metadata": {
        "colab": {
          "base_uri": "https://localhost:8080/",
          "height": 35
        },
        "id": "bfmrlp2HqyJP",
        "outputId": "d0e1c0e8-5590-4860-b0f6-4f0d6b0d6e23"
      },
      "execution_count": 28,
      "outputs": [
        {
          "output_type": "execute_result",
          "data": {
            "text/plain": [
              "'R'"
            ],
            "application/vnd.google.colaboratory.intrinsic+json": {
              "type": "string"
            }
          },
          "metadata": {},
          "execution_count": 28
        }
      ]
    },
    {
      "cell_type": "code",
      "source": [
        "y[0:2]"
      ],
      "metadata": {
        "colab": {
          "base_uri": "https://localhost:8080/",
          "height": 35
        },
        "id": "ZrjefWn9q1e6",
        "outputId": "c256acd8-c5dc-4fc3-963d-5b15a0123d9a"
      },
      "execution_count": 29,
      "outputs": [
        {
          "output_type": "execute_result",
          "data": {
            "text/plain": [
              "'Ri'"
            ],
            "application/vnd.google.colaboratory.intrinsic+json": {
              "type": "string"
            }
          },
          "metadata": {},
          "execution_count": 29
        }
      ]
    },
    {
      "cell_type": "code",
      "source": [
        "y[:2]"
      ],
      "metadata": {
        "colab": {
          "base_uri": "https://localhost:8080/",
          "height": 35
        },
        "id": "rhMp6DGFq4Bo",
        "outputId": "92eb47ec-cfc9-43af-cbc0-8fa87479eb59"
      },
      "execution_count": 32,
      "outputs": [
        {
          "output_type": "execute_result",
          "data": {
            "text/plain": [
              "'Ri'"
            ],
            "application/vnd.google.colaboratory.intrinsic+json": {
              "type": "string"
            }
          },
          "metadata": {},
          "execution_count": 32
        }
      ]
    },
    {
      "cell_type": "code",
      "source": [
        "y[-1]"
      ],
      "metadata": {
        "colab": {
          "base_uri": "https://localhost:8080/",
          "height": 35
        },
        "id": "7SkCx5g4rDsX",
        "outputId": "ef00376a-3059-4b04-8b4f-e58b7e0f6b50"
      },
      "execution_count": 33,
      "outputs": [
        {
          "output_type": "execute_result",
          "data": {
            "text/plain": [
              "'R'"
            ],
            "application/vnd.google.colaboratory.intrinsic+json": {
              "type": "string"
            }
          },
          "metadata": {},
          "execution_count": 33
        }
      ]
    },
    {
      "cell_type": "code",
      "source": [
        "#\".values\" is given to take only the data, instead of printing the headers,..,etc. \n",
        "x=dataset.iloc[:,:1].values"
      ],
      "metadata": {
        "id": "YdNwQTFfr-Nr"
      },
      "execution_count": 36,
      "outputs": []
    },
    {
      "cell_type": "code",
      "source": [
        "x"
      ],
      "metadata": {
        "colab": {
          "base_uri": "https://localhost:8080/"
        },
        "id": "gZAJwsHssvme",
        "outputId": "ab9ded8e-5950-4537-d2c9-43f3a88baa33"
      },
      "execution_count": 37,
      "outputs": [
        {
          "output_type": "execute_result",
          "data": {
            "text/plain": [
              "array([[  1],\n",
              "       [  2],\n",
              "       [  3],\n",
              "       [  4],\n",
              "       [  5],\n",
              "       [  6],\n",
              "       [  7],\n",
              "       [  8],\n",
              "       [  9],\n",
              "       [ 10],\n",
              "       [ 11],\n",
              "       [ 12],\n",
              "       [ 13],\n",
              "       [ 14],\n",
              "       [ 15],\n",
              "       [ 16],\n",
              "       [ 17],\n",
              "       [ 18],\n",
              "       [ 19],\n",
              "       [ 20],\n",
              "       [ 21],\n",
              "       [ 22],\n",
              "       [ 23],\n",
              "       [ 24],\n",
              "       [ 25],\n",
              "       [ 26],\n",
              "       [ 27],\n",
              "       [ 28],\n",
              "       [ 29],\n",
              "       [ 30],\n",
              "       [ 31],\n",
              "       [ 32],\n",
              "       [ 33],\n",
              "       [ 34],\n",
              "       [ 35],\n",
              "       [ 36],\n",
              "       [ 37],\n",
              "       [ 38],\n",
              "       [ 39],\n",
              "       [ 40],\n",
              "       [ 41],\n",
              "       [ 42],\n",
              "       [ 43],\n",
              "       [ 44],\n",
              "       [ 45],\n",
              "       [ 46],\n",
              "       [ 47],\n",
              "       [ 48],\n",
              "       [ 49],\n",
              "       [ 50],\n",
              "       [ 51],\n",
              "       [ 52],\n",
              "       [ 53],\n",
              "       [ 54],\n",
              "       [ 55],\n",
              "       [ 56],\n",
              "       [ 57],\n",
              "       [ 58],\n",
              "       [ 59],\n",
              "       [ 60],\n",
              "       [ 61],\n",
              "       [ 62],\n",
              "       [ 63],\n",
              "       [ 64],\n",
              "       [ 65],\n",
              "       [ 66],\n",
              "       [ 67],\n",
              "       [ 68],\n",
              "       [ 69],\n",
              "       [ 70],\n",
              "       [ 71],\n",
              "       [ 72],\n",
              "       [ 73],\n",
              "       [ 74],\n",
              "       [ 75],\n",
              "       [ 76],\n",
              "       [ 77],\n",
              "       [ 78],\n",
              "       [ 79],\n",
              "       [ 80],\n",
              "       [ 81],\n",
              "       [ 82],\n",
              "       [ 83],\n",
              "       [ 84],\n",
              "       [ 85],\n",
              "       [ 86],\n",
              "       [ 87],\n",
              "       [ 88],\n",
              "       [ 89],\n",
              "       [ 90],\n",
              "       [ 91],\n",
              "       [ 92],\n",
              "       [ 93],\n",
              "       [ 94],\n",
              "       [ 95],\n",
              "       [ 96],\n",
              "       [ 97],\n",
              "       [ 98],\n",
              "       [ 99],\n",
              "       [100],\n",
              "       [101],\n",
              "       [102],\n",
              "       [103],\n",
              "       [104],\n",
              "       [105],\n",
              "       [106],\n",
              "       [107],\n",
              "       [108],\n",
              "       [109],\n",
              "       [110],\n",
              "       [111],\n",
              "       [112],\n",
              "       [113],\n",
              "       [114],\n",
              "       [115],\n",
              "       [116],\n",
              "       [117],\n",
              "       [118],\n",
              "       [119],\n",
              "       [120],\n",
              "       [121],\n",
              "       [122],\n",
              "       [123],\n",
              "       [124],\n",
              "       [125],\n",
              "       [126],\n",
              "       [127],\n",
              "       [128],\n",
              "       [129],\n",
              "       [130],\n",
              "       [131],\n",
              "       [132],\n",
              "       [133],\n",
              "       [134],\n",
              "       [135],\n",
              "       [136],\n",
              "       [137],\n",
              "       [138],\n",
              "       [139],\n",
              "       [140],\n",
              "       [141],\n",
              "       [142],\n",
              "       [143],\n",
              "       [144],\n",
              "       [145],\n",
              "       [146],\n",
              "       [147],\n",
              "       [148],\n",
              "       [149],\n",
              "       [150],\n",
              "       [151],\n",
              "       [152],\n",
              "       [153],\n",
              "       [154],\n",
              "       [155],\n",
              "       [156],\n",
              "       [157],\n",
              "       [158],\n",
              "       [159],\n",
              "       [160],\n",
              "       [161],\n",
              "       [162],\n",
              "       [163],\n",
              "       [164],\n",
              "       [165],\n",
              "       [166],\n",
              "       [167],\n",
              "       [168],\n",
              "       [169],\n",
              "       [170],\n",
              "       [171],\n",
              "       [172],\n",
              "       [173],\n",
              "       [174],\n",
              "       [175],\n",
              "       [176],\n",
              "       [177],\n",
              "       [178],\n",
              "       [179],\n",
              "       [180],\n",
              "       [181],\n",
              "       [182],\n",
              "       [183],\n",
              "       [184],\n",
              "       [185],\n",
              "       [186],\n",
              "       [187],\n",
              "       [188],\n",
              "       [189],\n",
              "       [190],\n",
              "       [191],\n",
              "       [192],\n",
              "       [193],\n",
              "       [194],\n",
              "       [195],\n",
              "       [196],\n",
              "       [197],\n",
              "       [198],\n",
              "       [199],\n",
              "       [200],\n",
              "       [201],\n",
              "       [202],\n",
              "       [203],\n",
              "       [204],\n",
              "       [205],\n",
              "       [206],\n",
              "       [207],\n",
              "       [208],\n",
              "       [209],\n",
              "       [210],\n",
              "       [211],\n",
              "       [212],\n",
              "       [213],\n",
              "       [214],\n",
              "       [215],\n",
              "       [216],\n",
              "       [217],\n",
              "       [218],\n",
              "       [219],\n",
              "       [220],\n",
              "       [221],\n",
              "       [222],\n",
              "       [223],\n",
              "       [224],\n",
              "       [225],\n",
              "       [226],\n",
              "       [227],\n",
              "       [228],\n",
              "       [229],\n",
              "       [230],\n",
              "       [231],\n",
              "       [232],\n",
              "       [233],\n",
              "       [234],\n",
              "       [235],\n",
              "       [236],\n",
              "       [237],\n",
              "       [238],\n",
              "       [239],\n",
              "       [240],\n",
              "       [241],\n",
              "       [242],\n",
              "       [243],\n",
              "       [244],\n",
              "       [245],\n",
              "       [246],\n",
              "       [247],\n",
              "       [248],\n",
              "       [249],\n",
              "       [250]])"
            ]
          },
          "metadata": {},
          "execution_count": 37
        }
      ]
    },
    {
      "cell_type": "code",
      "source": [
        "y=dataset.iloc[:,-1].values"
      ],
      "metadata": {
        "id": "BFRN9hP7swQz"
      },
      "execution_count": 44,
      "outputs": []
    },
    {
      "cell_type": "code",
      "source": [
        "y"
      ],
      "metadata": {
        "colab": {
          "base_uri": "https://localhost:8080/"
        },
        "id": "G6TR3LwstNM7",
        "outputId": "fc0a93ac-55f7-4778-f713-4459e4e5e0f7"
      },
      "execution_count": 45,
      "outputs": [
        {
          "output_type": "execute_result",
          "data": {
            "text/plain": [
              "array([1626.      , 1594.      , 1603.75    , 1638.      , 1670.      ,\n",
              "       1621.800049, 1590.      , 1574.900024, 1609.599976, 1682.      ,\n",
              "       1750.      , 1732.      , 1740.      , 1724.      , 1775.599976,\n",
              "       1836.050049, 1802.949951, 1848.050049, 1815.      , 1835.550049,\n",
              "       1876.900024, 1919.25    , 1927.699951, 2005.      , 2018.      ,\n",
              "       2050.      , 2078.      , 2153.75    , 2165.949951, 2115.      ,\n",
              "       2181.850098, 2188.      , 2210.      , 2179.800049, 2245.      ,\n",
              "       2178.      , 2216.      , 2297.      , 2259.949951, 2297.      ,\n",
              "       2404.949951, 2359.850098, 2389.      , 2325.      , 2358.699951,\n",
              "       2270.      , 2210.      , 2229.5     , 2190.      , 2109.600098,\n",
              "       2103.      , 2084.5     , 2082.649902, 2133.050049, 2199.699951,\n",
              "       2145.      , 2159.      , 2231.75    , 2161.      , 2168.      ,\n",
              "       2077.      , 2080.      , 2120.      , 2160.      , 2169.949951,\n",
              "       2155.      , 2235.      , 2188.5     , 2210.      , 2244.949951,\n",
              "       2160.300049, 2190.      , 2172.5     , 2274.      , 2218.399902,\n",
              "       2205.      , 2062.      , 2107.300049, 2100.      , 2149.949951,\n",
              "       2105.      , 2121.      , 2189.      , 2170.      , 2185.      ,\n",
              "       2220.      , 2189.899902, 2232.199951, 2264.      , 2245.      ,\n",
              "       2280.      , 2286.      , 2293.050049, 2364.399902, 2373.5     ,\n",
              "       2365.      , 2414.5     , 2424.      , 2406.949951, 2462.      ,\n",
              "       2453.800049, 2505.5     , 2505.      , 2555.      , 2560.      ,\n",
              "       2559.899902, 2565.      , 2575.850098, 2660.      , 2685.      ,\n",
              "       2725.      , 2760.      , 2700.      , 2801.75    , 2841.      ,\n",
              "       2840.      , 2879.      , 2986.      , 3005.      , 3178.      ,\n",
              "       3134.      , 3032.649902, 3038.      , 3167.      , 3080.      ,\n",
              "       3055.      , 3165.      , 3200.      , 3261.      , 3374.100098,\n",
              "       3370.      , 3435.800049, 3499.      , 3479.      , 3465.      ,\n",
              "       3478.      , 3518.      , 3590.      , 3755.      , 3718.949951,\n",
              "       3819.      , 3837.649902, 3639.      , 3732.      , 3646.300049,\n",
              "       3596.      , 3528.      , 3583.5     , 3447.949951, 3440.      ,\n",
              "       3230.      , 3270.      , 3280.      , 3234.      , 3257.550049,\n",
              "       3297.      , 3218.      , 3272.      , 3211.      , 3249.      ,\n",
              "       3300.      , 3260.      , 3374.899902, 3325.      , 3321.949951,\n",
              "       3319.850098, 3322.      , 3339.949951, 3361.899902, 3580.      ,\n",
              "       3550.      , 3642.      , 3852.449951, 3977.      , 3995.      ,\n",
              "       4040.      , 3999.      , 4025.050049, 4057.300049, 3970.      ,\n",
              "       4028.350098, 4019.949951, 4001.850098, 4050.      , 3910.      ,\n",
              "       3929.      , 3899.399902, 3885.      , 3897.800049, 3937.5     ,\n",
              "       3905.      , 3928.899902, 3920.      , 4031.      , 4010.      ,\n",
              "       4044.      , 3997.      , 4027.800049, 4076.      , 4055.800049,\n",
              "       4018.899902, 3988.      , 4095.      , 4175.      , 3948.      ,\n",
              "       3822.      , 3653.      , 3732.449951, 3756.050049, 3790.      ,\n",
              "       3829.699951, 3870.      , 3841.899902, 3839.      , 3827.050049,\n",
              "       3829.      , 3843.      , 3859.      , 3660.      , 3642.5     ,\n",
              "       3651.199951, 3720.      , 3620.      , 3648.      , 3470.      ,\n",
              "       3450.      , 3443.050049, 3447.449951, 3422.      , 3335.      ,\n",
              "       2850.      , 2980.      , 2995.      , 2348.850098, 1490.      ,\n",
              "       1575.      , 1571.      , 1869.849976, 2168.      , 1769.      ,\n",
              "       1850.      , 1735.      , 1780.      , 1820.      , 1800.      ,\n",
              "       1650.      , 1626.      , 1535.      , 1380.      , 1410.      ])"
            ]
          },
          "metadata": {},
          "execution_count": 45
        }
      ]
    },
    {
      "cell_type": "code",
      "source": [
        "from sklearn.linear_model import LinearRegression\n",
        "regressor = LinearRegression()\n",
        "regressor.fit(x,y)\n",
        "#\"regressor\" is the name given to LinearRegression()"
      ],
      "metadata": {
        "colab": {
          "base_uri": "https://localhost:8080/"
        },
        "id": "aVnM6pMPtOTr",
        "outputId": "5a2fb953-6543-4879-9bf4-9b88f3ee3a41"
      },
      "execution_count": 47,
      "outputs": [
        {
          "output_type": "execute_result",
          "data": {
            "text/plain": [
              "LinearRegression()"
            ]
          },
          "metadata": {},
          "execution_count": 47
        }
      ]
    },
    {
      "cell_type": "code",
      "source": [
        "plt.plot(x,y)"
      ],
      "metadata": {
        "colab": {
          "base_uri": "https://localhost:8080/",
          "height": 282
        },
        "id": "zOQcbAPswEdj",
        "outputId": "fa34b275-efdd-467c-a7b4-0046750b1331"
      },
      "execution_count": 49,
      "outputs": [
        {
          "output_type": "execute_result",
          "data": {
            "text/plain": [
              "[<matplotlib.lines.Line2D at 0x7f1ba6c6a2b0>]"
            ]
          },
          "metadata": {},
          "execution_count": 49
        },
        {
          "output_type": "display_data",
          "data": {
            "text/plain": [
              "<Figure size 432x288 with 1 Axes>"
            ],
            "image/png": "[encoded data removed]"
          },
          "metadata": {
            "needs_background": "light"
          }
        }
      ]
    },
    {
      "cell_type": "code",
      "source": [
        "plt.scatter(x,y, color=\"red\")"
      ],
      "metadata": {
        "colab": {
          "base_uri": "https://localhost:8080/",
          "height": 282
        },
        "id": "6OkHadGzxOTd",
        "outputId": "83f673a8-bde7-4e44-df59-bec5baf8f21b"
      },
      "execution_count": 50,
      "outputs": [
        {
          "output_type": "execute_result",
          "data": {
            "text/plain": [
              "<matplotlib.collections.PathCollection at 0x7f1ba435bfa0>"
            ]
          },
          "metadata": {},
          "execution_count": 50
        },
        {
          "output_type": "display_data",
          "data": {
            "text/plain": [
              "<Figure size 432x288 with 1 Axes>"
            ],
            "image/png": "[encoded data removed]"
          },
          "metadata": {
            "needs_background": "light"
          }
        }
      ]
    },
    {
      "cell_type": "code",
      "source": [
        "plt.plot(x, regressor.predict(x), color=\"blue\")"
      ],
      "metadata": {
        "colab": {
          "base_uri": "https://localhost:8080/",
          "height": 282
        },
        "id": "c3WS1cIByXYW",
        "outputId": "04cf694d-f562-49ad-c90f-8e264684c7ba"
      },
      "execution_count": 51,
      "outputs": [
        {
          "output_type": "execute_result",
          "data": {
            "text/plain": [
              "[<matplotlib.lines.Line2D at 0x7f1ba4309c70>]"
            ]
          },
          "metadata": {},
          "execution_count": 51
        },
        {
          "output_type": "display_data",
          "data": {
            "text/plain": [
              "<Figure size 432x288 with 1 Axes>"
            ],
            "image/png": "[encoded data removed]"
          },
          "metadata": {
            "needs_background": "light"
          }
        }
      ]
    },
    {
      "cell_type": "code",
      "source": [],
      "metadata": {
        "id": "yAXFcXLUyoG_"
      },
      "execution_count": null,
      "outputs": []
    }
  ]
}