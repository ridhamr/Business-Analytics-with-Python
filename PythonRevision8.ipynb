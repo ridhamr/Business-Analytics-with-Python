{
  "nbformat": 4,
  "nbformat_minor": 0,
  "metadata": {
    "colab": {
      "provenance": []
    },
    "kernelspec": {
      "name": "python3",
      "display_name": "Python 3"
    },
    "language_info": {
      "name": "python"
    }
  },
  "cells": [
    {
      "cell_type": "code",
      "execution_count": 1,
      "metadata": {
        "id": "pgEmsX6MMfWr"
      },
      "outputs": [],
      "source": [
        "def Ridha():\n",
        "  print(\"India is my country\")"
      ]
    },
    {
      "cell_type": "code",
      "source": [
        "Ridha()"
      ],
      "metadata": {
        "colab": {
          "base_uri": "https://localhost:8080/"
        },
        "id": "20U7THFiQByZ",
        "outputId": "6af4c935-1639-46ed-e0ba-93d79581b8c9"
      },
      "execution_count": 2,
      "outputs": [
        {
          "output_type": "stream",
          "name": "stdout",
          "text": [
            "India is my country\n"
          ]
        }
      ]
    },
    {
      "cell_type": "code",
      "source": [
        "def Angel(x):\n",
        "  print(\"Your roll no. is\",x)"
      ],
      "metadata": {
        "id": "Y6wjx8nJQD83"
      },
      "execution_count": 7,
      "outputs": []
    },
    {
      "cell_type": "code",
      "source": [
        "Angel(x)"
      ],
      "metadata": {
        "colab": {
          "base_uri": "https://localhost:8080/"
        },
        "id": "HxQjOmt_QpP0",
        "outputId": "c85b76b4-471b-43d8-b27a-40c087891598"
      },
      "execution_count": 10,
      "outputs": [
        {
          "output_type": "stream",
          "name": "stdout",
          "text": [
            "Your roll no. is 56\n"
          ]
        }
      ]
    },
    {
      "cell_type": "code",
      "source": [
        "x=int(input(\"Enter your roll no. \"))\n",
        "Angel(x)"
      ],
      "metadata": {
        "colab": {
          "base_uri": "https://localhost:8080/"
        },
        "id": "FY1ekHDPQqUo",
        "outputId": "5cf1150b-9457-498e-bd5e-d21a813d15ec"
      },
      "execution_count": 12,
      "outputs": [
        {
          "output_type": "stream",
          "name": "stdout",
          "text": [
            "Enter your roll no. 56\n",
            "Your roll no. is 56\n"
          ]
        }
      ]
    },
    {
      "cell_type": "code",
      "source": [
        "def Nidhi(x,y,z,p):\n",
        "  print(\"DETAILS:\",x,\"\\n\",y,\"\\n\",z,\"\\n\",p)"
      ],
      "metadata": {
        "id": "19iFybsnRYgd"
      },
      "execution_count": 25,
      "outputs": []
    },
    {
      "cell_type": "code",
      "source": [
        "x=input(\"Enter your name \")\n",
        "y=int(input(\"Enter your roll no. \"))\n",
        "z=input(\"Enter email address \")\n",
        "p=input(\"Enter place \")\n",
        "Nidhi(x,y,z,p)"
      ],
      "metadata": {
        "colab": {
          "base_uri": "https://localhost:8080/"
        },
        "id": "88jc8Q6CSVW8",
        "outputId": "11de7976-3897-48cd-f26a-711edccaa21e"
      },
      "execution_count": 26,
      "outputs": [
        {
          "output_type": "stream",
          "name": "stdout",
          "text": [
            "Enter your name Ridha M R\n",
            "Enter your roll no. 45\n",
            "Enter email address ridhamr15@gmail.com\n",
            "Enter place Perumbavoor\n",
            "DETAILS: Ridha M R \n",
            " 45 \n",
            " ridhamr15@gmail.com \n",
            " Perumbavoor\n"
          ]
        }
      ]
    },
    {
      "cell_type": "code",
      "source": [
        "x=input(\"Enter full name: \")"
      ],
      "metadata": {
        "colab": {
          "base_uri": "https://localhost:8080/"
        },
        "id": "nnu1BYK_TZLW",
        "outputId": "d087c714-d8d0-443e-b9fc-fd0c624a37a4"
      },
      "execution_count": 29,
      "outputs": [
        {
          "name": "stdout",
          "output_type": "stream",
          "text": [
            "Enter full name: ridha m r\n"
          ]
        }
      ]
    },
    {
      "cell_type": "code",
      "source": [
        "y=x.split()"
      ],
      "metadata": {
        "id": "L-gQwEgUWdyD"
      },
      "execution_count": 31,
      "outputs": []
    },
    {
      "cell_type": "code",
      "source": [
        "y[0]"
      ],
      "metadata": {
        "colab": {
          "base_uri": "https://localhost:8080/",
          "height": 36
        },
        "id": "XxkyVuSZWmBg",
        "outputId": "cefecf3e-928b-4d45-bd3a-3ef76f1f8a37"
      },
      "execution_count": 32,
      "outputs": [
        {
          "output_type": "execute_result",
          "data": {
            "text/plain": [
              "'ridha'"
            ],
            "application/vnd.google.colaboratory.intrinsic+json": {
              "type": "string"
            }
          },
          "metadata": {},
          "execution_count": 32
        }
      ]
    },
    {
      "cell_type": "code",
      "source": [
        "def name(x):\n",
        "  print(\"First name is:\",x[0:5])\n",
        "  print(\"Second name is\",x[6:])"
      ],
      "metadata": {
        "id": "-NzaKGDdXwOr"
      },
      "execution_count": 37,
      "outputs": []
    },
    {
      "cell_type": "code",
      "source": [
        "x[0:4]"
      ],
      "metadata": {
        "colab": {
          "base_uri": "https://localhost:8080/",
          "height": 36
        },
        "id": "4m-NN6w3YfVu",
        "outputId": "f6beb068-62c4-4142-c9b6-90b271b3168f"
      },
      "execution_count": 35,
      "outputs": [
        {
          "output_type": "execute_result",
          "data": {
            "text/plain": [
              "'ridh'"
            ],
            "application/vnd.google.colaboratory.intrinsic+json": {
              "type": "string"
            }
          },
          "metadata": {},
          "execution_count": 35
        }
      ]
    },
    {
      "cell_type": "code",
      "source": [
        "name(x)"
      ],
      "metadata": {
        "colab": {
          "base_uri": "https://localhost:8080/"
        },
        "id": "nR55mXbfZBbG",
        "outputId": "956beff0-a9ea-41ee-c776-261b3cf59ee8"
      },
      "execution_count": 38,
      "outputs": [
        {
          "output_type": "stream",
          "name": "stdout",
          "text": [
            "First name is: ridha\n",
            "Second name is m r\n"
          ]
        }
      ]
    },
    {
      "cell_type": "code",
      "source": [
        "def namei():\n",
        "  y=x.split()\n",
        "  print(\"Your 1st name is:\",y[0])\n",
        "  print(\"Your 2nd name is:\",y[1])\n",
        "  print(\"Your 3rd name is\",y[2])"
      ],
      "metadata": {
        "id": "j_7in6AqaDTJ"
      },
      "execution_count": 45,
      "outputs": []
    },
    {
      "cell_type": "code",
      "source": [
        "x=input(\"Enter full name \")\n",
        "namei()"
      ],
      "metadata": {
        "colab": {
          "base_uri": "https://localhost:8080/"
        },
        "id": "-G1F_loEasaS",
        "outputId": "adda3658-67c7-4a9b-9d4d-785e8e0fd2dd"
      },
      "execution_count": 47,
      "outputs": [
        {
          "output_type": "stream",
          "name": "stdout",
          "text": [
            "Enter full name Ridha M R\n",
            "Your 1st name is: Ridha\n",
            "Your 2nd name is: M\n",
            "Your 3rd name is R\n"
          ]
        }
      ]
    }
  ]
}