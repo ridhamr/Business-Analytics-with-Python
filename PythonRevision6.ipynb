{
  "nbformat": 4,
  "nbformat_minor": 0,
  "metadata": {
    "colab": {
      "provenance": []
    },
    "kernelspec": {
      "name": "python3",
      "display_name": "Python 3"
    },
    "language_info": {
      "name": "python"
    }
  },
  "cells": [
    {
      "cell_type": "code",
      "execution_count": 1,
      "metadata": {
        "id": "ytS_o2ucs8Re"
      },
      "outputs": [],
      "source": [
        "x=\"Ridha M R\""
      ]
    },
    {
      "cell_type": "code",
      "source": [
        "len(x)"
      ],
      "metadata": {
        "colab": {
          "base_uri": "https://localhost:8080/"
        },
        "id": "ssvYij2vusWG",
        "outputId": "45bf5b09-5e92-4000-9738-7c1207d9b3ad"
      },
      "execution_count": 4,
      "outputs": [
        {
          "output_type": "execute_result",
          "data": {
            "text/plain": [
              "9"
            ]
          },
          "metadata": {},
          "execution_count": 4
        }
      ]
    },
    {
      "cell_type": "code",
      "source": [
        "x=[\"John\",\"Mary\",\"David\",\"Adam\"]"
      ],
      "metadata": {
        "id": "ADt_8UkhutdA"
      },
      "execution_count": 5,
      "outputs": []
    },
    {
      "cell_type": "code",
      "source": [
        "x"
      ],
      "metadata": {
        "colab": {
          "base_uri": "https://localhost:8080/"
        },
        "id": "G0e7o6bEvjYF",
        "outputId": "e0306b82-e569-4cd6-b77d-cfef5920a126"
      },
      "execution_count": 6,
      "outputs": [
        {
          "output_type": "execute_result",
          "data": {
            "text/plain": [
              "['John', 'Mary', 'David', 'Adam']"
            ]
          },
          "metadata": {},
          "execution_count": 6
        }
      ]
    },
    {
      "cell_type": "code",
      "source": [
        "type(x)"
      ],
      "metadata": {
        "colab": {
          "base_uri": "https://localhost:8080/"
        },
        "id": "CSLTIdXtvjzf",
        "outputId": "455e0f47-0b9d-4edb-d556-cf192a8d58b5"
      },
      "execution_count": 7,
      "outputs": [
        {
          "output_type": "execute_result",
          "data": {
            "text/plain": [
              "list"
            ]
          },
          "metadata": {},
          "execution_count": 7
        }
      ]
    },
    {
      "cell_type": "code",
      "source": [
        "len(x)"
      ],
      "metadata": {
        "colab": {
          "base_uri": "https://localhost:8080/"
        },
        "id": "WgaHTuMKvn-f",
        "outputId": "ae795d3b-d225-4747-d682-704047332d70"
      },
      "execution_count": 9,
      "outputs": [
        {
          "output_type": "execute_result",
          "data": {
            "text/plain": [
              "4"
            ]
          },
          "metadata": {},
          "execution_count": 9
        }
      ]
    },
    {
      "cell_type": "code",
      "source": [
        "x=[9056,\"Ridha M R\",19,\"21-08-2003\",\"Perumbavoor\"]"
      ],
      "metadata": {
        "id": "_XJ9s0iavx_I"
      },
      "execution_count": 10,
      "outputs": []
    },
    {
      "cell_type": "code",
      "source": [
        "x"
      ],
      "metadata": {
        "colab": {
          "base_uri": "https://localhost:8080/"
        },
        "id": "7pk_OMP1wPkQ",
        "outputId": "b04a60d9-38d6-4a4b-a66d-0f7a4569fec9"
      },
      "execution_count": 11,
      "outputs": [
        {
          "output_type": "execute_result",
          "data": {
            "text/plain": [
              "[9056, 'Ridha M R', 19, '21-08-2003', 'Perumbavoor']"
            ]
          },
          "metadata": {},
          "execution_count": 11
        }
      ]
    },
    {
      "cell_type": "code",
      "source": [
        "type(x)"
      ],
      "metadata": {
        "colab": {
          "base_uri": "https://localhost:8080/"
        },
        "id": "RS5HDeDRwxcM",
        "outputId": "8b73e38d-40aa-4f7d-d3b9-6ff0758dab77"
      },
      "execution_count": 14,
      "outputs": [
        {
          "output_type": "execute_result",
          "data": {
            "text/plain": [
              "list"
            ]
          },
          "metadata": {},
          "execution_count": 14
        }
      ]
    },
    {
      "cell_type": "code",
      "source": [
        "x[0]"
      ],
      "metadata": {
        "colab": {
          "base_uri": "https://localhost:8080/"
        },
        "id": "P9q5wnQRwytX",
        "outputId": "f2b322d5-8169-43c0-9976-935cda473134"
      },
      "execution_count": 13,
      "outputs": [
        {
          "output_type": "execute_result",
          "data": {
            "text/plain": [
              "9056"
            ]
          },
          "metadata": {},
          "execution_count": 13
        }
      ]
    },
    {
      "cell_type": "code",
      "source": [
        "x[-1]"
      ],
      "metadata": {
        "colab": {
          "base_uri": "https://localhost:8080/",
          "height": 35
        },
        "id": "FzQxxtmnw0e3",
        "outputId": "7be4ba09-1014-42c9-c068-6f4d76354c56"
      },
      "execution_count": 15,
      "outputs": [
        {
          "output_type": "execute_result",
          "data": {
            "text/plain": [
              "'Perumbavoor'"
            ],
            "application/vnd.google.colaboratory.intrinsic+json": {
              "type": "string"
            }
          },
          "metadata": {},
          "execution_count": 15
        }
      ]
    },
    {
      "cell_type": "code",
      "source": [
        "x=[3,67,44,8,90,56,771,45,32,25]"
      ],
      "metadata": {
        "id": "rHrcJMHzxbzS"
      },
      "execution_count": 16,
      "outputs": []
    },
    {
      "cell_type": "code",
      "source": [
        "x[0:1]"
      ],
      "metadata": {
        "colab": {
          "base_uri": "https://localhost:8080/"
        },
        "id": "3G0zi4qlxp1i",
        "outputId": "0b72d1cc-bb0d-41de-9af6-5657bb7d2fa0"
      },
      "execution_count": 17,
      "outputs": [
        {
          "output_type": "execute_result",
          "data": {
            "text/plain": [
              "[3]"
            ]
          },
          "metadata": {},
          "execution_count": 17
        }
      ]
    },
    {
      "cell_type": "code",
      "source": [
        "x[0:2]"
      ],
      "metadata": {
        "colab": {
          "base_uri": "https://localhost:8080/"
        },
        "id": "Ts0wt3OEyU4i",
        "outputId": "2316ba1c-090e-4d0c-d49f-efab9058aa75"
      },
      "execution_count": 18,
      "outputs": [
        {
          "output_type": "execute_result",
          "data": {
            "text/plain": [
              "[3, 67]"
            ]
          },
          "metadata": {},
          "execution_count": 18
        }
      ]
    },
    {
      "cell_type": "code",
      "source": [
        "x[0:5]"
      ],
      "metadata": {
        "colab": {
          "base_uri": "https://localhost:8080/"
        },
        "id": "sQbZpbcpycNq",
        "outputId": "ae416cdc-b2ec-4376-ea86-179c74a4ac3b"
      },
      "execution_count": 19,
      "outputs": [
        {
          "output_type": "execute_result",
          "data": {
            "text/plain": [
              "[3, 67, 44, 8, 90]"
            ]
          },
          "metadata": {},
          "execution_count": 19
        }
      ]
    },
    {
      "cell_type": "code",
      "source": [
        "x[-3:]"
      ],
      "metadata": {
        "colab": {
          "base_uri": "https://localhost:8080/"
        },
        "id": "P3IxB_dLygqE",
        "outputId": "1c3967c5-1dbd-4d01-b20e-39a52f673102"
      },
      "execution_count": 24,
      "outputs": [
        {
          "output_type": "execute_result",
          "data": {
            "text/plain": [
              "[45, 32, 25]"
            ]
          },
          "metadata": {},
          "execution_count": 24
        }
      ]
    },
    {
      "cell_type": "code",
      "source": [
        "x[7:]"
      ],
      "metadata": {
        "colab": {
          "base_uri": "https://localhost:8080/"
        },
        "id": "3_MVpQV4ypDp",
        "outputId": "8ce9ce46-4071-4831-a459-9f73326f4f97"
      },
      "execution_count": 26,
      "outputs": [
        {
          "output_type": "execute_result",
          "data": {
            "text/plain": [
              "[45, 32, 25]"
            ]
          },
          "metadata": {},
          "execution_count": 26
        }
      ]
    },
    {
      "cell_type": "code",
      "source": [
        "#Replacing values\n",
        "x=[3,67,44,8,90,56,771,45,32,25]"
      ],
      "metadata": {
        "id": "TEoIt7wyy3Ii"
      },
      "execution_count": 27,
      "outputs": []
    },
    {
      "cell_type": "code",
      "source": [
        "x[0]=4"
      ],
      "metadata": {
        "id": "QEieasvH0kIe"
      },
      "execution_count": 28,
      "outputs": []
    },
    {
      "cell_type": "code",
      "source": [
        "x"
      ],
      "metadata": {
        "colab": {
          "base_uri": "https://localhost:8080/"
        },
        "id": "KV5yDGr_0s4I",
        "outputId": "543dfee0-81af-4126-e615-1914ce1fb340"
      },
      "execution_count": 29,
      "outputs": [
        {
          "output_type": "execute_result",
          "data": {
            "text/plain": [
              "[4, 67, 44, 8, 90, 56, 771, 45, 32, 25]"
            ]
          },
          "metadata": {},
          "execution_count": 29
        }
      ]
    },
    {
      "cell_type": "code",
      "source": [
        "x=[9056,\"Ridha M R\",19,\"21-08-2003\",\"Perumbavoor\"]"
      ],
      "metadata": {
        "id": "3ybNOgql0zlQ"
      },
      "execution_count": 30,
      "outputs": []
    },
    {
      "cell_type": "code",
      "source": [
        "x[4]=\"Rajagiri\""
      ],
      "metadata": {
        "id": "VytxcXe71Uyk"
      },
      "execution_count": 31,
      "outputs": []
    },
    {
      "cell_type": "code",
      "source": [
        "x"
      ],
      "metadata": {
        "colab": {
          "base_uri": "https://localhost:8080/"
        },
        "id": "K6ltli5v1acb",
        "outputId": "3f58ba4d-42e0-4c5a-ece0-0931d5ce3723"
      },
      "execution_count": 32,
      "outputs": [
        {
          "output_type": "execute_result",
          "data": {
            "text/plain": [
              "[9056, 'Ridha M R', 19, '21-08-2003', 'Rajagiri']"
            ]
          },
          "metadata": {},
          "execution_count": 32
        }
      ]
    },
    {
      "cell_type": "code",
      "source": [
        "x=[3,6,9,12]"
      ],
      "metadata": {
        "id": "b4VDgPfI1bxs"
      },
      "execution_count": 33,
      "outputs": []
    },
    {
      "cell_type": "code",
      "source": [
        "#Adding values\n",
        "x.append(45)"
      ],
      "metadata": {
        "id": "BmQmOWAZ3Oyc"
      },
      "execution_count": 34,
      "outputs": []
    },
    {
      "cell_type": "code",
      "source": [
        "x"
      ],
      "metadata": {
        "colab": {
          "base_uri": "https://localhost:8080/"
        },
        "id": "OlHoNmjp3dbr",
        "outputId": "7cad2503-2ad0-4437-dafb-5b621d51905e"
      },
      "execution_count": 35,
      "outputs": [
        {
          "output_type": "execute_result",
          "data": {
            "text/plain": [
              "[3, 6, 9, 12, 45]"
            ]
          },
          "metadata": {},
          "execution_count": 35
        }
      ]
    },
    {
      "cell_type": "code",
      "source": [
        "#Creating a list using input values\n",
        "a=0\n",
        "l=[]\n",
        "while a<4:\n",
        "  x=input(\"Enter your name\")\n",
        "  l.append(x)\n",
        "  a=a+1\n",
        "print(l)"
      ],
      "metadata": {
        "colab": {
          "base_uri": "https://localhost:8080/"
        },
        "id": "L-D4tIVv3eLl",
        "outputId": "5848a1ce-88d3-4d36-ffca-67256ed03d94"
      },
      "execution_count": 39,
      "outputs": [
        {
          "output_type": "stream",
          "name": "stdout",
          "text": [
            "Enter your nameRidha\n",
            "Enter your nameRidha\n",
            "Enter your nameRidha\n",
            "Enter your nameRidha\n",
            "['Ridha', 'Ridha', 'Ridha', 'Ridha']\n"
          ]
        }
      ]
    },
    {
      "cell_type": "code",
      "source": [
        "a=1\n",
        "l=[]\n",
        "for a in range(6):\n",
        "  x=input(\"Enter name: \")\n",
        "  l.append(x)\n",
        "  a=a+1\n",
        "print(l)"
      ],
      "metadata": {
        "colab": {
          "base_uri": "https://localhost:8080/"
        },
        "id": "5W-KUH1e4tUR",
        "outputId": "613bb3f6-7976-46ed-f2e4-4cc52c70d836"
      },
      "execution_count": 42,
      "outputs": [
        {
          "output_type": "stream",
          "name": "stdout",
          "text": [
            "Enter name: Ridha\n",
            "Enter name: Angel\n",
            "Enter name: Parvathy\n",
            "Enter name: Enitta\n",
            "Enter name: Tia\n",
            "Enter name: Nidhi\n",
            "['Ridha', 'Angel', 'Parvathy', 'Enitta', 'Tia', 'Nidhi']\n"
          ]
        }
      ]
    },
    {
      "cell_type": "code",
      "source": [
        "#Copying a list\n",
        "x=[\"Far\",\"From\",\"Above\"]\n",
        "y=x.copy()"
      ],
      "metadata": {
        "id": "VEE7jI_k5-DL"
      },
      "execution_count": 45,
      "outputs": []
    },
    {
      "cell_type": "code",
      "source": [
        "y"
      ],
      "metadata": {
        "colab": {
          "base_uri": "https://localhost:8080/"
        },
        "id": "03e50FSv9Ohc",
        "outputId": "0b919d38-d0ab-4545-e9a0-95d8e71c58a0"
      },
      "execution_count": 44,
      "outputs": [
        {
          "output_type": "execute_result",
          "data": {
            "text/plain": [
              "['Far', 'From', 'Above']"
            ]
          },
          "metadata": {},
          "execution_count": 44
        }
      ]
    },
    {
      "cell_type": "code",
      "source": [
        "#Combininig 2 lists\n",
        "x=[\"John\",\"Mary\",\"David\",\"Adam\"]\n",
        "y=[\"A\",\"B\",\"C\"]\n",
        "x.extend(y)"
      ],
      "metadata": {
        "id": "G8aMCKbA9QD_"
      },
      "execution_count": 46,
      "outputs": []
    },
    {
      "cell_type": "code",
      "source": [
        "x"
      ],
      "metadata": {
        "colab": {
          "base_uri": "https://localhost:8080/"
        },
        "id": "rPozxg90-aLc",
        "outputId": "814aff82-ad89-451e-86c8-cd0fc5c91955"
      },
      "execution_count": 47,
      "outputs": [
        {
          "output_type": "execute_result",
          "data": {
            "text/plain": [
              "['John', 'Mary', 'David', 'Adam', 'A', 'B', 'C']"
            ]
          },
          "metadata": {},
          "execution_count": 47
        }
      ]
    },
    {
      "cell_type": "code",
      "source": [
        "#Count function\n",
        "x=[45,765,45,23,988,34,34,21,21,21]"
      ],
      "metadata": {
        "id": "dlPdiWZn-bAb"
      },
      "execution_count": 50,
      "outputs": []
    },
    {
      "cell_type": "code",
      "source": [
        "x.count(21)"
      ],
      "metadata": {
        "colab": {
          "base_uri": "https://localhost:8080/"
        },
        "id": "nAE0jRb8_Db1",
        "outputId": "4c7ba5d0-191b-47b1-fb96-04d2afbc38da"
      },
      "execution_count": 52,
      "outputs": [
        {
          "output_type": "execute_result",
          "data": {
            "text/plain": [
              "3"
            ]
          },
          "metadata": {},
          "execution_count": 52
        }
      ]
    },
    {
      "cell_type": "code",
      "source": [
        "#Replacing more than one values\n",
        "x=[\"John\",\"Mary\",\"David\",\"Adam\"]\n",
        "x[1:3]=[\"Mathew\",\"James\"]"
      ],
      "metadata": {
        "id": "1uSkB2FS_EvC"
      },
      "execution_count": 53,
      "outputs": []
    },
    {
      "cell_type": "code",
      "source": [
        "x"
      ],
      "metadata": {
        "colab": {
          "base_uri": "https://localhost:8080/"
        },
        "id": "y9CxY8HCAKN6",
        "outputId": "7da69afa-14a9-452a-a6b5-32d5b5aef767"
      },
      "execution_count": 54,
      "outputs": [
        {
          "output_type": "execute_result",
          "data": {
            "text/plain": [
              "['John', 'Mathew', 'James', 'Adam']"
            ]
          },
          "metadata": {},
          "execution_count": 54
        }
      ]
    },
    {
      "cell_type": "code",
      "source": [
        "#Inserting at specific index\n",
        "x=[\"John\",\"Mary\",\"David\",\"Adam\"]\n",
        "x.insert(2,\"Ridha\")"
      ],
      "metadata": {
        "id": "OXjpGVwGAKz6"
      },
      "execution_count": 57,
      "outputs": []
    },
    {
      "cell_type": "code",
      "source": [
        "print(x)"
      ],
      "metadata": {
        "colab": {
          "base_uri": "https://localhost:8080/"
        },
        "id": "DrqjZ2wLBUqN",
        "outputId": "6c869ba4-6098-41d1-8bc0-25453e1b13f9"
      },
      "execution_count": 56,
      "outputs": [
        {
          "output_type": "stream",
          "name": "stdout",
          "text": [
            "['John', 'Mary', 'Ridha', 'David', 'Adam']\n"
          ]
        }
      ]
    },
    {
      "cell_type": "code",
      "source": [
        "#Removing values from a list\n",
        "x=[\"Rajagiri\",\"College\",\"Of\",\"Social\",\"Sciences\"]\n",
        "x.remove(\"Social\")"
      ],
      "metadata": {
        "id": "1vmGMfguBWNZ"
      },
      "execution_count": 58,
      "outputs": []
    },
    {
      "cell_type": "code",
      "source": [
        "x"
      ],
      "metadata": {
        "colab": {
          "base_uri": "https://localhost:8080/"
        },
        "id": "HdLuskpuCieI",
        "outputId": "0d14e2b8-08a5-4ee0-e55b-97f17916e750"
      },
      "execution_count": 59,
      "outputs": [
        {
          "output_type": "execute_result",
          "data": {
            "text/plain": [
              "['Rajagiri', 'College', 'Of', 'Sciences']"
            ]
          },
          "metadata": {},
          "execution_count": 59
        }
      ]
    },
    {
      "cell_type": "code",
      "source": [
        "#Deleting values at specific index\n",
        "x=[\"Rajagiri\",\"College\",\"Of\",\"Social\",\"Sciences\"]\n",
        "del x[0:2]"
      ],
      "metadata": {
        "id": "fJ6VKiqzCi6b"
      },
      "execution_count": 63,
      "outputs": []
    },
    {
      "cell_type": "code",
      "source": [
        "x"
      ],
      "metadata": {
        "colab": {
          "base_uri": "https://localhost:8080/"
        },
        "id": "m7o_xu9pDJFK",
        "outputId": "399cec99-67dd-4e2e-e986-abc35fb913c7"
      },
      "execution_count": 64,
      "outputs": [
        {
          "output_type": "execute_result",
          "data": {
            "text/plain": [
              "['Of', 'Social', 'Sciences']"
            ]
          },
          "metadata": {},
          "execution_count": 64
        }
      ]
    },
    {
      "cell_type": "code",
      "source": [
        "x=[\"Rajagiri\",\"College\",\"Of\",\"Social\",\"Sciences\"]\n",
        "del x[-1]"
      ],
      "metadata": {
        "id": "X3DLngQQDW7y"
      },
      "execution_count": 66,
      "outputs": []
    },
    {
      "cell_type": "code",
      "source": [
        "x"
      ],
      "metadata": {
        "colab": {
          "base_uri": "https://localhost:8080/"
        },
        "id": "SrZbnIh6Dcwn",
        "outputId": "c6e16c80-835c-4055-b106-486c7d7982bc"
      },
      "execution_count": 67,
      "outputs": [
        {
          "output_type": "execute_result",
          "data": {
            "text/plain": [
              "['Rajagiri', 'College', 'Of', 'Social']"
            ]
          },
          "metadata": {},
          "execution_count": 67
        }
      ]
    }
  ]
}