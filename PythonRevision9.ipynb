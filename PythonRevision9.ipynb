{
  "nbformat": 4,
  "nbformat_minor": 0,
  "metadata": {
    "colab": {
      "provenance": []
    },
    "kernelspec": {
      "name": "python3",
      "display_name": "Python 3"
    },
    "language_info": {
      "name": "python"
    }
  },
  "cells": [
    {
      "cell_type": "code",
      "execution_count": 1,
      "metadata": {
        "id": "vuDzoTdAYxn7"
      },
      "outputs": [],
      "source": [
        "x=[1,2,45,6,5,78,4,32,5,34]"
      ]
    },
    {
      "cell_type": "code",
      "source": [
        "def numsum(x):\n",
        "  print(\"Sum of elements is\",sum(x))"
      ],
      "metadata": {
        "id": "kPV8OaWsZEXC"
      },
      "execution_count": 2,
      "outputs": []
    },
    {
      "cell_type": "code",
      "source": [
        "numsum(x)"
      ],
      "metadata": {
        "colab": {
          "base_uri": "https://localhost:8080/"
        },
        "id": "Ct9gqAXHZnXe",
        "outputId": "ef03f59c-fa9b-4e53-9dd1-08e6224ceca1"
      },
      "execution_count": 3,
      "outputs": [
        {
          "output_type": "stream",
          "name": "stdout",
          "text": [
            "Sum of elements is 212\n"
          ]
        }
      ]
    },
    {
      "cell_type": "code",
      "source": [
        "#Display even and odd numbers separately and their respective sum\n",
        "def evod():\n",
        "  a=len(x)\n",
        "  b=0\n",
        "  c=0\n",
        "  d=0\n",
        "  e=[]\n",
        "  f=[]\n",
        "  while b<a:\n",
        "    if x[b]%2==0:\n",
        "      c=c+x[b]\n",
        "      e.append(x[b])\n",
        "      b=b+1\n",
        "    else:\n",
        "      d=d+x[b]\n",
        "      f.append(x[b])\n",
        "      b=b+1\n",
        "  print(\"List of even numbers:\",e)\n",
        "  print(\"Sum of even numbers is:\",c)\n",
        "  print(\"List of odd numbers:\",f)\n",
        "  print(\"Sum of odd numbers is:\",d)"
      ],
      "metadata": {
        "id": "ZtOwqhQ3ZpDe"
      },
      "execution_count": 16,
      "outputs": []
    },
    {
      "cell_type": "code",
      "source": [
        "evod()"
      ],
      "metadata": {
        "colab": {
          "base_uri": "https://localhost:8080/"
        },
        "id": "7mph8l2EaqRw",
        "outputId": "82ba019f-e430-4343-a825-96ab5c3c220d"
      },
      "execution_count": 17,
      "outputs": [
        {
          "output_type": "stream",
          "name": "stdout",
          "text": [
            "List of even numbers: [2, 6, 78, 4, 32, 34]\n",
            "Sum of even numbers is: 156\n",
            "List of odd numbers: [1, 45, 5, 5]\n",
            "Sum of odd numbers is: 56\n"
          ]
        }
      ]
    },
    {
      "cell_type": "code",
      "source": [
        "#Alternate method\n",
        "def oddeven(x):\n",
        "  odd=[]\n",
        "  even=[]\n",
        "  for i in x:\n",
        "    if i%2==0:\n",
        "      even.append(i)\n",
        "    else:\n",
        "      odd.append(i)\n",
        "  print(\"Odd list:\",odd)\n",
        "  print(\"Sum of odd nos.\",sum(odd))\n",
        "  print(\"Even list:\",even) \n",
        "  print(\"Sum of even nos.\",sum(even))"
      ],
      "metadata": {
        "id": "XTltwoHnccJ2"
      },
      "execution_count": 18,
      "outputs": []
    },
    {
      "cell_type": "code",
      "source": [
        "oddeven(x)"
      ],
      "metadata": {
        "colab": {
          "base_uri": "https://localhost:8080/"
        },
        "id": "CD43s_hPigSw",
        "outputId": "deb86d37-ef14-42b1-a2ea-6fa4de672005"
      },
      "execution_count": 20,
      "outputs": [
        {
          "output_type": "stream",
          "name": "stdout",
          "text": [
            "Odd list: [1, 45, 5, 5]\n",
            "Sum of odd nos. 56\n",
            "Even list: [2, 6, 78, 4, 32, 34]\n",
            "Sum of even nos. 156\n"
          ]
        }
      ]
    },
    {
      "cell_type": "code",
      "source": [
        "#Removing vowels from a string\n",
        "a=\"Python is a high-level, general-purpose programming language\"\n",
        "c=a"
      ],
      "metadata": {
        "id": "j6Y2HEr0ih0s"
      },
      "execution_count": 43,
      "outputs": []
    },
    {
      "cell_type": "code",
      "source": [
        "def vowrem(c,a):\n",
        "  for i in a:\n",
        "    if i==\"a\" or i==\"e\" or i==\"i\" or i==\"o\" or i==\"u\":\n",
        "      c=c.replace(i,\" \")\n",
        "  print(c)\n"
      ],
      "metadata": {
        "id": "Q88yOWEUkmDB"
      },
      "execution_count": 52,
      "outputs": []
    },
    {
      "cell_type": "code",
      "source": [
        "vowrem(c,a)"
      ],
      "metadata": {
        "colab": {
          "base_uri": "https://localhost:8080/"
        },
        "id": "HH-xePEkkoEN",
        "outputId": "0a08f9b3-faf6-4ca1-c293-4c43658436ca"
      },
      "execution_count": 53,
      "outputs": [
        {
          "output_type": "stream",
          "name": "stdout",
          "text": [
            "Pyth n  s   h gh-l v l, g n r l-p rp s  pr gr mm ng l ng  g \n"
          ]
        }
      ]
    }
  ]
}