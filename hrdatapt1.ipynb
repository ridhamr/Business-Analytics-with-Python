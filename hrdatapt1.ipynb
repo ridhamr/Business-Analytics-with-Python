{
  "nbformat": 4,
  "nbformat_minor": 0,
  "metadata": {
    "colab": {
      "name": "hrdatapt1.ipynb",
      "provenance": []
    },
    "kernelspec": {
      "name": "python3",
      "display_name": "Python 3"
    },
    "language_info": {
      "name": "python"
    }
  },
  "cells": [
    {
      "cell_type": "code",
      "execution_count": 1,
      "metadata": {
        "id": "vNannK5lPtHq"
      },
      "outputs": [],
      "source": [
        "import pandas as pd"
      ]
    },
    {
      "cell_type": "code",
      "source": [
        "df=pd.read_csv('HRDataset_v14.csv')"
      ],
      "metadata": {
        "id": "wq_CkycKQ0do"
      },
      "execution_count": 2,
      "outputs": []
    },
    {
      "cell_type": "code",
      "source": [
        "df"
      ],
      "metadata": {
        "colab": {
          "base_uri": "https://localhost:8080/",
          "height": 1102
        },
        "id": "xF0sEJXIRB_l",
        "outputId": "e4aeac8e-d36a-43ac-9522-c962bb913c05"
      },
      "execution_count": 3,
      "outputs": [
        {
          "output_type": "execute_result",
          "data": {
            "text/plain": [
              "                Employee_Name    EmpID  MarriedID  MaritalStatusID  Gender  \\\n",
              "0         Adinolfi, Wilson  K  10026.0        0.0              0.0  Female   \n",
              "1    Ait Sidi, Karthikeyan     10084.0        1.0              1.0    Male   \n",
              "2           Akinkuolie, Sarah  10196.0        1.0              1.0    Male   \n",
              "3                Alagbe,Trina  10088.0        1.0              1.0  Female   \n",
              "4            Anderson, Carol   10069.0        0.0              2.0    Male   \n",
              "..                        ...      ...        ...              ...     ...   \n",
              "307        Ybarra, Catherine   10301.0        0.0              0.0  Female   \n",
              "308          Zamora, Jennifer  10010.0        0.0              0.0    Male   \n",
              "309               Zhou, Julia  10043.0        0.0              0.0    Male   \n",
              "310             Zima, Colleen  10271.0        0.0              4.0    Male   \n",
              "311                       NaN      NaN        NaN              NaN    Male   \n",
              "\n",
              "     EmpStatusID  DeptID  PerfScoreID  FromDiversityJobFairID    Salary  ...  \\\n",
              "0            1.0     5.0          4.0                     0.0   62506.0  ...   \n",
              "1            5.0     3.0          3.0                     0.0  104437.0  ...   \n",
              "2            5.0     5.0          3.0                     0.0   64955.0  ...   \n",
              "3            1.0     5.0          3.0                     0.0   64991.0  ...   \n",
              "4            5.0     5.0          3.0                     0.0   50825.0  ...   \n",
              "..           ...     ...          ...                     ...       ...  ...   \n",
              "307          5.0     5.0          1.0                     0.0   48513.0  ...   \n",
              "308          1.0     3.0          4.0                     0.0  220450.0  ...   \n",
              "309          1.0     3.0          3.0                     0.0   89292.0  ...   \n",
              "310          1.0     5.0          3.0                     0.0   45046.0  ...   \n",
              "311          NaN     NaN          NaN                     NaN       NaN  ...   \n",
              "\n",
              "     PerformanceRating  StandardHours StockOptionLevel TotalWorkingYears  \\\n",
              "0                    3             80                0                 8   \n",
              "1                    4             80                1                10   \n",
              "2                    3             80                0                 7   \n",
              "3                    3             80                0                 8   \n",
              "4                    3             80                1                 6   \n",
              "..                 ...            ...              ...               ...   \n",
              "307                  3             80                1                19   \n",
              "308                  3             80                1                12   \n",
              "309                  3             80                1                 6   \n",
              "310                  3             80                0                 9   \n",
              "311                  3             80                1                24   \n",
              "\n",
              "     TrainingTimesLastYear WorkLifeBalance YearsAtCompany YearsInCurrentRole  \\\n",
              "0                        0               1              6                  4   \n",
              "1                        3               3             10                  7   \n",
              "2                        3               3              0                  0   \n",
              "3                        3               3              8                  7   \n",
              "4                        3               3              2                  2   \n",
              "..                     ...             ...            ...                ...   \n",
              "307                      2               3             10                  8   \n",
              "308                      2               3              5                  3   \n",
              "309                      4               3              5                  2   \n",
              "310                      1               3              2                  2   \n",
              "311                      2               3             24                  9   \n",
              "\n",
              "    YearsSinceLastPromotion YearsWithCurrManager  \n",
              "0                         0                    5  \n",
              "1                         1                    7  \n",
              "2                         0                    0  \n",
              "3                         3                    0  \n",
              "4                         2                    2  \n",
              "..                      ...                  ...  \n",
              "307                       0                    1  \n",
              "308                       1                    2  \n",
              "309                       0                    3  \n",
              "310                       1                    0  \n",
              "311                       9                   11  \n",
              "\n",
              "[312 rows x 56 columns]"
            ],
            "text/html": [
              "\n",
              "  <div id=\"df-358807ad-46a8-4d77-b1cb-2f4c02722c8d\">\n",
              "    <div class=\"colab-df-container\">\n",
              "      <div>\n",
              "<style scoped>\n",
              "    .dataframe tbody tr th:only-of-type {\n",
              "        vertical-align: middle;\n",
              "    }\n",
              "\n",
              "    .dataframe tbody tr th {\n",
              "        vertical-align: top;\n",
              "    }\n",
              "\n",
              "    .dataframe thead th {\n",
              "        text-align: right;\n",
              "    }\n",
              "</style>\n",
              "<table border=\"1\" class=\"dataframe\">\n",
              "  <thead>\n",
              "    <tr style=\"text-align: right;\">\n",
              "      <th></th>\n",
              "      <th>Employee_Name</th>\n",
              "      <th>EmpID</th>\n",
              "      <th>MarriedID</th>\n",
              "      <th>MaritalStatusID</th>\n",
              "      <th>Gender</th>\n",
              "      <th>EmpStatusID</th>\n",
              "      <th>DeptID</th>\n",
              "      <th>PerfScoreID</th>\n",
              "      <th>FromDiversityJobFairID</th>\n",
              "      <th>Salary</th>\n",
              "      <th>...</th>\n",
              "      <th>PerformanceRating</th>\n",
              "      <th>StandardHours</th>\n",
              "      <th>StockOptionLevel</th>\n",
              "      <th>TotalWorkingYears</th>\n",
              "      <th>TrainingTimesLastYear</th>\n",
              "      <th>WorkLifeBalance</th>\n",
              "      <th>YearsAtCompany</th>\n",
              "      <th>YearsInCurrentRole</th>\n",
              "      <th>YearsSinceLastPromotion</th>\n",
              "      <th>YearsWithCurrManager</th>\n",
              "    </tr>\n",
              "  </thead>\n",
              "  <tbody>\n",
              "    <tr>\n",
              "      <th>0</th>\n",
              "      <td>Adinolfi, Wilson  K</td>\n",
              "      <td>10026.0</td>\n",
              "      <td>0.0</td>\n",
              "      <td>0.0</td>\n",
              "      <td>Female</td>\n",
              "      <td>1.0</td>\n",
              "      <td>5.0</td>\n",
              "      <td>4.0</td>\n",
              "      <td>0.0</td>\n",
              "      <td>62506.0</td>\n",
              "      <td>...</td>\n",
              "      <td>3</td>\n",
              "      <td>80</td>\n",
              "      <td>0</td>\n",
              "      <td>8</td>\n",
              "      <td>0</td>\n",
              "      <td>1</td>\n",
              "      <td>6</td>\n",
              "      <td>4</td>\n",
              "      <td>0</td>\n",
              "      <td>5</td>\n",
              "    </tr>\n",
              "    <tr>\n",
              "      <th>1</th>\n",
              "      <td>Ait Sidi, Karthikeyan</td>\n",
              "      <td>10084.0</td>\n",
              "      <td>1.0</td>\n",
              "      <td>1.0</td>\n",
              "      <td>Male</td>\n",
              "      <td>5.0</td>\n",
              "      <td>3.0</td>\n",
              "      <td>3.0</td>\n",
              "      <td>0.0</td>\n",
              "      <td>104437.0</td>\n",
              "      <td>...</td>\n",
              "      <td>4</td>\n",
              "      <td>80</td>\n",
              "      <td>1</td>\n",
              "      <td>10</td>\n",
              "      <td>3</td>\n",
              "      <td>3</td>\n",
              "      <td>10</td>\n",
              "      <td>7</td>\n",
              "      <td>1</td>\n",
              "      <td>7</td>\n",
              "    </tr>\n",
              "    <tr>\n",
              "      <th>2</th>\n",
              "      <td>Akinkuolie, Sarah</td>\n",
              "      <td>10196.0</td>\n",
              "      <td>1.0</td>\n",
              "      <td>1.0</td>\n",
              "      <td>Male</td>\n",
              "      <td>5.0</td>\n",
              "      <td>5.0</td>\n",
              "      <td>3.0</td>\n",
              "      <td>0.0</td>\n",
              "      <td>64955.0</td>\n",
              "      <td>...</td>\n",
              "      <td>3</td>\n",
              "      <td>80</td>\n",
              "      <td>0</td>\n",
              "      <td>7</td>\n",
              "      <td>3</td>\n",
              "      <td>3</td>\n",
              "      <td>0</td>\n",
              "      <td>0</td>\n",
              "      <td>0</td>\n",
              "      <td>0</td>\n",
              "    </tr>\n",
              "    <tr>\n",
              "      <th>3</th>\n",
              "      <td>Alagbe,Trina</td>\n",
              "      <td>10088.0</td>\n",
              "      <td>1.0</td>\n",
              "      <td>1.0</td>\n",
              "      <td>Female</td>\n",
              "      <td>1.0</td>\n",
              "      <td>5.0</td>\n",
              "      <td>3.0</td>\n",
              "      <td>0.0</td>\n",
              "      <td>64991.0</td>\n",
              "      <td>...</td>\n",
              "      <td>3</td>\n",
              "      <td>80</td>\n",
              "      <td>0</td>\n",
              "      <td>8</td>\n",
              "      <td>3</td>\n",
              "      <td>3</td>\n",
              "      <td>8</td>\n",
              "      <td>7</td>\n",
              "      <td>3</td>\n",
              "      <td>0</td>\n",
              "    </tr>\n",
              "    <tr>\n",
              "      <th>4</th>\n",
              "      <td>Anderson, Carol</td>\n",
              "      <td>10069.0</td>\n",
              "      <td>0.0</td>\n",
              "      <td>2.0</td>\n",
              "      <td>Male</td>\n",
              "      <td>5.0</td>\n",
              "      <td>5.0</td>\n",
              "      <td>3.0</td>\n",
              "      <td>0.0</td>\n",
              "      <td>50825.0</td>\n",
              "      <td>...</td>\n",
              "      <td>3</td>\n",
              "      <td>80</td>\n",
              "      <td>1</td>\n",
              "      <td>6</td>\n",
              "      <td>3</td>\n",
              "      <td>3</td>\n",
              "      <td>2</td>\n",
              "      <td>2</td>\n",
              "      <td>2</td>\n",
              "      <td>2</td>\n",
              "    </tr>\n",
              "    <tr>\n",
              "      <th>...</th>\n",
              "      <td>...</td>\n",
              "      <td>...</td>\n",
              "      <td>...</td>\n",
              "      <td>...</td>\n",
              "      <td>...</td>\n",
              "      <td>...</td>\n",
              "      <td>...</td>\n",
              "      <td>...</td>\n",
              "      <td>...</td>\n",
              "      <td>...</td>\n",
              "      <td>...</td>\n",
              "      <td>...</td>\n",
              "      <td>...</td>\n",
              "      <td>...</td>\n",
              "      <td>...</td>\n",
              "      <td>...</td>\n",
              "      <td>...</td>\n",
              "      <td>...</td>\n",
              "      <td>...</td>\n",
              "      <td>...</td>\n",
              "      <td>...</td>\n",
              "    </tr>\n",
              "    <tr>\n",
              "      <th>307</th>\n",
              "      <td>Ybarra, Catherine</td>\n",
              "      <td>10301.0</td>\n",
              "      <td>0.0</td>\n",
              "      <td>0.0</td>\n",
              "      <td>Female</td>\n",
              "      <td>5.0</td>\n",
              "      <td>5.0</td>\n",
              "      <td>1.0</td>\n",
              "      <td>0.0</td>\n",
              "      <td>48513.0</td>\n",
              "      <td>...</td>\n",
              "      <td>3</td>\n",
              "      <td>80</td>\n",
              "      <td>1</td>\n",
              "      <td>19</td>\n",
              "      <td>2</td>\n",
              "      <td>3</td>\n",
              "      <td>10</td>\n",
              "      <td>8</td>\n",
              "      <td>0</td>\n",
              "      <td>1</td>\n",
              "    </tr>\n",
              "    <tr>\n",
              "      <th>308</th>\n",
              "      <td>Zamora, Jennifer</td>\n",
              "      <td>10010.0</td>\n",
              "      <td>0.0</td>\n",
              "      <td>0.0</td>\n",
              "      <td>Male</td>\n",
              "      <td>1.0</td>\n",
              "      <td>3.0</td>\n",
              "      <td>4.0</td>\n",
              "      <td>0.0</td>\n",
              "      <td>220450.0</td>\n",
              "      <td>...</td>\n",
              "      <td>3</td>\n",
              "      <td>80</td>\n",
              "      <td>1</td>\n",
              "      <td>12</td>\n",
              "      <td>2</td>\n",
              "      <td>3</td>\n",
              "      <td>5</td>\n",
              "      <td>3</td>\n",
              "      <td>1</td>\n",
              "      <td>2</td>\n",
              "    </tr>\n",
              "    <tr>\n",
              "      <th>309</th>\n",
              "      <td>Zhou, Julia</td>\n",
              "      <td>10043.0</td>\n",
              "      <td>0.0</td>\n",
              "      <td>0.0</td>\n",
              "      <td>Male</td>\n",
              "      <td>1.0</td>\n",
              "      <td>3.0</td>\n",
              "      <td>3.0</td>\n",
              "      <td>0.0</td>\n",
              "      <td>89292.0</td>\n",
              "      <td>...</td>\n",
              "      <td>3</td>\n",
              "      <td>80</td>\n",
              "      <td>1</td>\n",
              "      <td>6</td>\n",
              "      <td>4</td>\n",
              "      <td>3</td>\n",
              "      <td>5</td>\n",
              "      <td>2</td>\n",
              "      <td>0</td>\n",
              "      <td>3</td>\n",
              "    </tr>\n",
              "    <tr>\n",
              "      <th>310</th>\n",
              "      <td>Zima, Colleen</td>\n",
              "      <td>10271.0</td>\n",
              "      <td>0.0</td>\n",
              "      <td>4.0</td>\n",
              "      <td>Male</td>\n",
              "      <td>1.0</td>\n",
              "      <td>5.0</td>\n",
              "      <td>3.0</td>\n",
              "      <td>0.0</td>\n",
              "      <td>45046.0</td>\n",
              "      <td>...</td>\n",
              "      <td>3</td>\n",
              "      <td>80</td>\n",
              "      <td>0</td>\n",
              "      <td>9</td>\n",
              "      <td>1</td>\n",
              "      <td>3</td>\n",
              "      <td>2</td>\n",
              "      <td>2</td>\n",
              "      <td>1</td>\n",
              "      <td>0</td>\n",
              "    </tr>\n",
              "    <tr>\n",
              "      <th>311</th>\n",
              "      <td>NaN</td>\n",
              "      <td>NaN</td>\n",
              "      <td>NaN</td>\n",
              "      <td>NaN</td>\n",
              "      <td>Male</td>\n",
              "      <td>NaN</td>\n",
              "      <td>NaN</td>\n",
              "      <td>NaN</td>\n",
              "      <td>NaN</td>\n",
              "      <td>NaN</td>\n",
              "      <td>...</td>\n",
              "      <td>3</td>\n",
              "      <td>80</td>\n",
              "      <td>1</td>\n",
              "      <td>24</td>\n",
              "      <td>2</td>\n",
              "      <td>3</td>\n",
              "      <td>24</td>\n",
              "      <td>9</td>\n",
              "      <td>9</td>\n",
              "      <td>11</td>\n",
              "    </tr>\n",
              "  </tbody>\n",
              "</table>\n",
              "<p>312 rows × 56 columns</p>\n",
              "</div>\n",
              "      <button class=\"colab-df-convert\" onclick=\"convertToInteractive('df-358807ad-46a8-4d77-b1cb-2f4c02722c8d')\"\n",
              "              title=\"Convert this dataframe to an interactive table.\"\n",
              "              style=\"display:none;\">\n",
              "        \n",
              "  <svg xmlns=\"http://www.w3.org/2000/svg\" height=\"24px\"viewBox=\"0 0 24 24\"\n",
              "       width=\"24px\">\n",
              "    <path d=\"M0 0h24v24H0V0z\" fill=\"none\"/>\n",
              "    <path d=\"M18.56 5.44l.94 2.06.94-2.06 2.06-.94-2.06-.94-.94-2.06-.94 2.06-2.06.94zm-11 1L8.5 8.5l.94-2.06 2.06-.94-2.06-.94L8.5 2.5l-.94 2.06-2.06.94zm10 10l.94 2.06.94-2.06 2.06-.94-2.06-.94-.94-2.06-.94 2.06-2.06.94z\"/><path d=\"M17.41 7.96l-1.37-1.37c-.4-.4-.92-.59-1.43-.59-.52 0-1.04.2-1.43.59L10.3 9.45l-7.72 7.72c-.78.78-.78 2.05 0 2.83L4 21.41c.39.39.9.59 1.41.59.51 0 1.02-.2 1.41-.59l7.78-7.78 2.81-2.81c.8-.78.8-2.07 0-2.86zM5.41 20L4 18.59l7.72-7.72 1.47 1.35L5.41 20z\"/>\n",
              "  </svg>\n",
              "      </button>\n",
              "      \n",
              "  <style>\n",
              "    .colab-df-container {\n",
              "      display:flex;\n",
              "      flex-wrap:wrap;\n",
              "      gap: 12px;\n",
              "    }\n",
              "\n",
              "    .colab-df-convert {\n",
              "      background-color: #E8F0FE;\n",
              "      border: none;\n",
              "      border-radius: 50%;\n",
              "      cursor: pointer;\n",
              "      display: none;\n",
              "      fill: #1967D2;\n",
              "      height: 32px;\n",
              "      padding: 0 0 0 0;\n",
              "      width: 32px;\n",
              "    }\n",
              "\n",
              "    .colab-df-convert:hover {\n",
              "      background-color: #E2EBFA;\n",
              "      box-shadow: 0px 1px 2px rgba(60, 64, 67, 0.3), 0px 1px 3px 1px rgba(60, 64, 67, 0.15);\n",
              "      fill: #174EA6;\n",
              "    }\n",
              "\n",
              "    [theme=dark] .colab-df-convert {\n",
              "      background-color: #3B4455;\n",
              "      fill: #D2E3FC;\n",
              "    }\n",
              "\n",
              "    [theme=dark] .colab-df-convert:hover {\n",
              "      background-color: #434B5C;\n",
              "      box-shadow: 0px 1px 3px 1px rgba(0, 0, 0, 0.15);\n",
              "      filter: drop-shadow(0px 1px 2px rgba(0, 0, 0, 0.3));\n",
              "      fill: #FFFFFF;\n",
              "    }\n",
              "  </style>\n",
              "\n",
              "      <script>\n",
              "        const buttonEl =\n",
              "          document.querySelector('#df-358807ad-46a8-4d77-b1cb-2f4c02722c8d button.colab-df-convert');\n",
              "        buttonEl.style.display =\n",
              "          google.colab.kernel.accessAllowed ? 'block' : 'none';\n",
              "\n",
              "        async function convertToInteractive(key) {\n",
              "          const element = document.querySelector('#df-358807ad-46a8-4d77-b1cb-2f4c02722c8d');\n",
              "          const dataTable =\n",
              "            await google.colab.kernel.invokeFunction('convertToInteractive',\n",
              "                                                     [key], {});\n",
              "          if (!dataTable) return;\n",
              "\n",
              "          const docLinkHtml = 'Like what you see? Visit the ' +\n",
              "            '<a target=\"_blank\" href=https://colab.research.google.com/notebooks/data_table.ipynb>data table notebook</a>'\n",
              "            + ' to learn more about interactive tables.';\n",
              "          element.innerHTML = '';\n",
              "          dataTable['output_type'] = 'display_data';\n",
              "          await google.colab.output.renderOutput(dataTable, element);\n",
              "          const docLink = document.createElement('div');\n",
              "          docLink.innerHTML = docLinkHtml;\n",
              "          element.appendChild(docLink);\n",
              "        }\n",
              "      </script>\n",
              "    </div>\n",
              "  </div>\n",
              "  "
            ]
          },
          "metadata": {},
          "execution_count": 3
        },
        {
          "output_type": "stream",
          "name": "stdout",
          "text": [
            "Warning: Total number of columns (56) exceeds max_columns (20) limiting to first (20) columns.\n"
          ]
        }
      ]
    },
    {
      "cell_type": "code",
      "source": [
        "#1\n",
        "df.loc[(df['Position'])=='Production Technician I'].Position.count()"
      ],
      "metadata": {
        "colab": {
          "base_uri": "https://localhost:8080/"
        },
        "id": "CbqVwrhZRERl",
        "outputId": "cb45883b-413f-4283-b9ae-1c5f6c612f27"
      },
      "execution_count": 4,
      "outputs": [
        {
          "output_type": "execute_result",
          "data": {
            "text/plain": [
              "137"
            ]
          },
          "metadata": {},
          "execution_count": 4
        }
      ]
    },
    {
      "cell_type": "code",
      "source": [
        "#2\n",
        "df.loc[(df['Gender'])=='Male'].Gender.count()"
      ],
      "metadata": {
        "colab": {
          "base_uri": "https://localhost:8080/"
        },
        "id": "YEhm1t_PR-pO",
        "outputId": "b2a13106-fcaa-4e53-f4db-72d922a3aa43"
      },
      "execution_count": 5,
      "outputs": [
        {
          "output_type": "execute_result",
          "data": {
            "text/plain": [
              "194"
            ]
          },
          "metadata": {},
          "execution_count": 5
        }
      ]
    },
    {
      "cell_type": "code",
      "source": [
        "#3\n",
        "df.loc[(df['ManagerName'])=='Michael Albert'].Employee_Name"
      ],
      "metadata": {
        "colab": {
          "base_uri": "https://localhost:8080/"
        },
        "id": "FBGn-1uzSUiu",
        "outputId": "e6ac2695-7358-4de6-b07d-28b537a93aad"
      },
      "execution_count": 17,
      "outputs": [
        {
          "output_type": "execute_result",
          "data": {
            "text/plain": [
              "0         Adinolfi, Wilson  K\n",
              "14              Barton, Nader\n",
              "23             Blount, Dianna\n",
              "41           Chace, Beatrice \n",
              "58          Crimmings,   Jean\n",
              "83             Erilus, Angela\n",
              "84          Estremera, Miguel\n",
              "102           Gentry, Mildred\n",
              "122       Handschiegl, Joanne\n",
              "129    Homberger, Adrienne  J\n",
              "143           Johnson, George\n",
              "148           Keatts, Kramer \n",
              "168         Linares, Marilyn \n",
              "171              Lundy, Susan\n",
              "186        Medeiros, Jennifer\n",
              "195         Moumanil, Maliki \n",
              "209             Owad, Clinton\n",
              "229            Rarrick, Quinn\n",
              "247             Sadki, Nore  \n",
              "256          Sloan, Constance\n",
              "272         Sullivan, Timothy\n",
              "294      Von Massenbach, Anna\n",
              "Name: Employee_Name, dtype: object"
            ]
          },
          "metadata": {},
          "execution_count": 17
        }
      ]
    },
    {
      "cell_type": "code",
      "source": [
        "#4\n",
        "df.loc[(df['EmploymentStatus'])=='Active'].Employee_Name"
      ],
      "metadata": {
        "colab": {
          "base_uri": "https://localhost:8080/"
        },
        "id": "C_B5T-SMTjx2",
        "outputId": "f9ccdd0b-436b-4386-d5eb-d41d47acc8ad"
      },
      "execution_count": 9,
      "outputs": [
        {
          "output_type": "execute_result",
          "data": {
            "text/plain": [
              "0      Adinolfi, Wilson  K\n",
              "3             Alagbe,Trina\n",
              "5        Anderson, Linda  \n",
              "6          Andreola, Colby\n",
              "7              Athwal, Sam\n",
              "              ...         \n",
              "305          Wolk, Hang  T\n",
              "306         Woodson, Jason\n",
              "308       Zamora, Jennifer\n",
              "309            Zhou, Julia\n",
              "310          Zima, Colleen\n",
              "Name: Employee_Name, Length: 207, dtype: object"
            ]
          },
          "metadata": {},
          "execution_count": 9
        }
      ]
    },
    {
      "cell_type": "code",
      "source": [
        "#5\n",
        "a=df.loc[(df['EmploymentStatus'])=='Active']"
      ],
      "metadata": {
        "id": "PC8J8N60URkF"
      },
      "execution_count": 13,
      "outputs": []
    },
    {
      "cell_type": "code",
      "source": [
        "a.loc[df['MaritalDesc']=='Married'].Employee_Name"
      ],
      "metadata": {
        "colab": {
          "base_uri": "https://localhost:8080/"
        },
        "id": "OSMKbq9UVRwE",
        "outputId": "a9b5fb81-0dd1-4663-b902-4c552e4322c4"
      },
      "execution_count": 14,
      "outputs": [
        {
          "output_type": "execute_result",
          "data": {
            "text/plain": [
              "3           Alagbe,Trina\n",
              "16      Beak, Kimberly  \n",
              "22         Billis, Helen\n",
              "26     Boutwell, Bonalyn\n",
              "29            Brown, Mia\n",
              "             ...        \n",
              "271     Sullivan, Kissy \n",
              "272    Sullivan, Timothy\n",
              "275         Tannen, Biff\n",
              "287        Turpin, Jumil\n",
              "288      Valentin,Jackie\n",
              "Name: Employee_Name, Length: 77, dtype: object"
            ]
          },
          "metadata": {},
          "execution_count": 14
        }
      ]
    },
    {
      "cell_type": "code",
      "source": [
        "#6\n",
        "a.loc[df['Salary']<60000].Employee_Name"
      ],
      "metadata": {
        "colab": {
          "base_uri": "https://localhost:8080/"
        },
        "id": "WQ0fFzslV2vr",
        "outputId": "9512e5e2-9147-4a41-d0de-188b432eddbe"
      },
      "execution_count": 15,
      "outputs": [
        {
          "output_type": "execute_result",
          "data": {
            "text/plain": [
              "5         Anderson, Linda  \n",
              "7               Athwal, Sam\n",
              "8          Bachiochi, Linda\n",
              "9        Bacong, Alejandro \n",
              "13     Barone, Francesco  A\n",
              "               ...         \n",
              "278        Terry, Sharlene \n",
              "281       Tippett, Jeanette\n",
              "288         Valentin,Jackie\n",
              "291        Villanueva, Noah\n",
              "310           Zima, Colleen\n",
              "Name: Employee_Name, Length: 72, dtype: object"
            ]
          },
          "metadata": {},
          "execution_count": 15
        }
      ]
    },
    {
      "cell_type": "code",
      "source": [
        "#7\n",
        "b=df.EngagementSurvey.max()"
      ],
      "metadata": {
        "id": "aZCLXuuZWj8h"
      },
      "execution_count": 19,
      "outputs": []
    },
    {
      "cell_type": "code",
      "source": [
        "df.loc[(df['Position']=='Production Technician II') & (df['EngagementSurvey']==b)].Employee_Name"
      ],
      "metadata": {
        "colab": {
          "base_uri": "https://localhost:8080/"
        },
        "id": "_uCBGC1VX4on",
        "outputId": "803ce64c-36ec-4e5c-e5b9-50d54ffb7ff2"
      },
      "execution_count": 20,
      "outputs": [
        {
          "output_type": "execute_result",
          "data": {
            "text/plain": [
              "123      Hankard, Earnest\n",
              "127    Hendrickson, Trina\n",
              "177     Manchester, Robyn\n",
              "178        Mancuso, Karen\n",
              "182       Carthy, B'rigit\n",
              "206       Oliver, Brooke \n",
              "304    Winthrop, Jordan  \n",
              "Name: Employee_Name, dtype: object"
            ]
          },
          "metadata": {},
          "execution_count": 20
        }
      ]
    },
    {
      "cell_type": "code",
      "source": [
        "#8\n",
        "c=df.Salary.max()"
      ],
      "metadata": {
        "id": "6gzPw7_SaJX-"
      },
      "execution_count": 21,
      "outputs": []
    },
    {
      "cell_type": "code",
      "source": [
        "df.loc[df['Salary']==c].Position"
      ],
      "metadata": {
        "colab": {
          "base_uri": "https://localhost:8080/"
        },
        "id": "_9TqcU8Daqu6",
        "outputId": "4454e3da-d55c-4ed8-e2f3-2013592cc917"
      },
      "execution_count": 22,
      "outputs": [
        {
          "output_type": "execute_result",
          "data": {
            "text/plain": [
              "150    President & CEO\n",
              "Name: Position, dtype: object"
            ]
          },
          "metadata": {},
          "execution_count": 22
        }
      ]
    },
    {
      "cell_type": "code",
      "source": [
        "#9\n",
        "d=df.Salary.mean()"
      ],
      "metadata": {
        "id": "pKsn7iipa5wH"
      },
      "execution_count": 23,
      "outputs": []
    },
    {
      "cell_type": "code",
      "source": [
        "df.loc[df['Salary']<d].Employee_Name"
      ],
      "metadata": {
        "colab": {
          "base_uri": "https://localhost:8080/"
        },
        "id": "2zcMTCtJbJFb",
        "outputId": "577b67a8-8564-487b-bf1e-ff813c6161bf"
      },
      "execution_count": 24,
      "outputs": [
        {
          "output_type": "execute_result",
          "data": {
            "text/plain": [
              "0        Adinolfi, Wilson  K\n",
              "2          Akinkuolie, Sarah\n",
              "3               Alagbe,Trina\n",
              "4           Anderson, Carol \n",
              "5          Anderson, Linda  \n",
              "               ...          \n",
              "303    Williams, Jacquelyn  \n",
              "305            Wolk, Hang  T\n",
              "306           Woodson, Jason\n",
              "307       Ybarra, Catherine \n",
              "310            Zima, Colleen\n",
              "Name: Employee_Name, Length: 221, dtype: object"
            ]
          },
          "metadata": {},
          "execution_count": 24
        }
      ]
    },
    {
      "cell_type": "code",
      "source": [
        "#10\n",
        "df.loc[(df['Salary']<d) & (df['EmpSatisfaction']<3)].Employee_Name"
      ],
      "metadata": {
        "colab": {
          "base_uri": "https://localhost:8080/"
        },
        "id": "aou51AAPbUBy",
        "outputId": "016d73aa-6c77-4206-e0eb-4bf10375ff01"
      },
      "execution_count": 25,
      "outputs": [
        {
          "output_type": "execute_result",
          "data": {
            "text/plain": [
              "29             Brown, Mia\n",
              "54      Corleone, Michael\n",
              "69        Desimone, Carl \n",
              "72      Dietrich, Jenna  \n",
              "83         Erilus, Angela\n",
              "188           Miller, Ned\n",
              "205          O'hare, Lynn\n",
              "263      Sparks, Taylor  \n",
              "267    Stansfield, Norman\n",
              "307    Ybarra, Catherine \n",
              "Name: Employee_Name, dtype: object"
            ]
          },
          "metadata": {},
          "execution_count": 25
        }
      ]
    },
    {
      "cell_type": "code",
      "source": [
        "import matplotlib.pyplot as plt\n"
      ],
      "metadata": {
        "id": "bL34wA8iddXV"
      },
      "execution_count": 26,
      "outputs": []
    },
    {
      "cell_type": "code",
      "source": [
        "#11\n",
        "plt.scatter('DistanceFromHome','EmpSatisfaction')"
      ],
      "metadata": {
        "colab": {
          "base_uri": "https://localhost:8080/",
          "height": 282
        },
        "id": "YfHugTT1dmMT",
        "outputId": "3c4304fe-030f-4231-c21b-fe19bb8ae494"
      },
      "execution_count": 30,
      "outputs": [
        {
          "output_type": "execute_result",
          "data": {
            "text/plain": [
              "<matplotlib.collections.PathCollection at 0x7f42258d5890>"
            ]
          },
          "metadata": {},
          "execution_count": 30
        },
        {
          "output_type": "display_data",
          "data": {
            "text/plain": [
              "<Figure size 432x288 with 1 Axes>"
            ],
            "image/png": "[encoded data removed]"
          },
          "metadata": {
            "needs_background": "light"
          }
        }
      ]
    },
    {
      "cell_type": "code",
      "source": [
        "#12\n",
        "df.loc[df['StockOptionLevel']>0].Employee_Name.count()"
      ],
      "metadata": {
        "colab": {
          "base_uri": "https://localhost:8080/"
        },
        "id": "GPts4DG7d7dy",
        "outputId": "f6da4167-e587-4a4e-aa71-1e08132e4e56"
      },
      "execution_count": 37,
      "outputs": [
        {
          "output_type": "execute_result",
          "data": {
            "text/plain": [
              "171"
            ]
          },
          "metadata": {},
          "execution_count": 37
        }
      ]
    },
    {
      "cell_type": "code",
      "source": [
        "#13\n",
        "df.loc[df['PerformanceRating']>3].Employee_Name.count()"
      ],
      "metadata": {
        "colab": {
          "base_uri": "https://localhost:8080/"
        },
        "id": "ZU9zo_Egez4z",
        "outputId": "27fec561-bbb4-4b66-c18d-8d9e206242f6"
      },
      "execution_count": 38,
      "outputs": [
        {
          "output_type": "execute_result",
          "data": {
            "text/plain": [
              "57"
            ]
          },
          "metadata": {},
          "execution_count": 38
        }
      ]
    },
    {
      "cell_type": "code",
      "source": [
        "#14\n",
        "df.loc[df['EmpStatusID']==5].Employee_Name.count()"
      ],
      "metadata": {
        "colab": {
          "base_uri": "https://localhost:8080/"
        },
        "id": "yMF3EJKgfm9S",
        "outputId": "d288bf5c-f7e0-445c-d881-5cb13ddcd7b6"
      },
      "execution_count": 39,
      "outputs": [
        {
          "output_type": "execute_result",
          "data": {
            "text/plain": [
              "88"
            ]
          },
          "metadata": {},
          "execution_count": 39
        }
      ]
    },
    {
      "cell_type": "code",
      "source": [
        "#15\n",
        "df.loc[df['Department']=='IT/IS'].Employee_Name.count()"
      ],
      "metadata": {
        "colab": {
          "base_uri": "https://localhost:8080/"
        },
        "id": "cWIvaHSfiftT",
        "outputId": "2e01d957-463b-4d73-9630-3a0d9dde2e24"
      },
      "execution_count": 43,
      "outputs": [
        {
          "output_type": "execute_result",
          "data": {
            "text/plain": [
              "50"
            ]
          },
          "metadata": {},
          "execution_count": 43
        }
      ]
    },
    {
      "cell_type": "code",
      "source": [
        "#16\n",
        "f=df.groupby('Department').Employee_Name.count()"
      ],
      "metadata": {
        "id": "feixCTrbi6jn"
      },
      "execution_count": 50,
      "outputs": []
    },
    {
      "cell_type": "code",
      "source": [
        "f\n"
      ],
      "metadata": {
        "colab": {
          "base_uri": "https://localhost:8080/"
        },
        "id": "a_zWspZUk92R",
        "outputId": "43cd841f-fd7e-41cf-acf5-0504e4d1baae"
      },
      "execution_count": 51,
      "outputs": [
        {
          "output_type": "execute_result",
          "data": {
            "text/plain": [
              "Department\n",
              "Admin Offices             9\n",
              "Executive Office          1\n",
              "IT/IS                    50\n",
              "Production              209\n",
              "Sales                    31\n",
              "Software Engineering     11\n",
              "Name: Employee_Name, dtype: int64"
            ]
          },
          "metadata": {},
          "execution_count": 51
        }
      ]
    },
    {
      "cell_type": "code",
      "source": [
        "f.max()"
      ],
      "metadata": {
        "colab": {
          "base_uri": "https://localhost:8080/"
        },
        "id": "vdbjlxZalZbL",
        "outputId": "6185b9df-64fb-4f3c-b490-ce3c21868e56"
      },
      "execution_count": 52,
      "outputs": [
        {
          "output_type": "execute_result",
          "data": {
            "text/plain": [
              "209"
            ]
          },
          "metadata": {},
          "execution_count": 52
        }
      ]
    },
    {
      "cell_type": "code",
      "source": [
        "#17\n",
        "f.min()"
      ],
      "metadata": {
        "colab": {
          "base_uri": "https://localhost:8080/"
        },
        "id": "A8l33RXBl5s4",
        "outputId": "7e0404dc-f198-40e7-a2e2-29faf59f0dce"
      },
      "execution_count": 53,
      "outputs": [
        {
          "output_type": "execute_result",
          "data": {
            "text/plain": [
              "1"
            ]
          },
          "metadata": {},
          "execution_count": 53
        }
      ]
    }
  ]
}