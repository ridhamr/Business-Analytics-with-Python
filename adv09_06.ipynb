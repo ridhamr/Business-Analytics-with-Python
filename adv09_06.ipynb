{
  "nbformat": 4,
  "nbformat_minor": 0,
  "metadata": {
    "colab": {
      "name": "adv09/06.ipynb",
      "provenance": []
    },
    "kernelspec": {
      "name": "python3",
      "display_name": "Python 3"
    },
    "language_info": {
      "name": "python"
    }
  },
  "cells": [
    {
      "cell_type": "code",
      "source": [
        "import numpy as np"
      ],
      "metadata": {
        "id": "Up_kSo0Ziy95"
      },
      "execution_count": 4,
      "outputs": []
    },
    {
      "cell_type": "code",
      "source": [
        "k=0\n",
        "l=[]\n",
        "a=int(input('Enter no. of subjects'))\n",
        "while k<a:\n",
        "  b=int(input('Enter marks of 1st semester'))\n",
        "  l.append(b)\n",
        "  k=k+1\n",
        "n=len(l)\n",
        "print('Your total score is',sum(l))\n",
        "print('Your highest score is',max(l))\n",
        "print('Your least score is',min(l))\n",
        "print('Your average score is',sum(l)/n)"
      ],
      "metadata": {
        "colab": {
          "base_uri": "https://localhost:8080/"
        },
        "id": "YUDArUerm96H",
        "outputId": "6389eddc-4a85-4afc-c3cf-73a0137e8cf4"
      },
      "execution_count": 21,
      "outputs": [
        {
          "output_type": "stream",
          "name": "stdout",
          "text": [
            "Enter no. of subjects2\n",
            "Enter marks of 1st semester10\n",
            "Enter marks of 1st semester30\n",
            "Your total score is 40\n",
            "Your highest score is 30\n",
            "Your least score is 10\n",
            "Your average score is 20.0\n"
          ]
        }
      ]
    },
    {
      "cell_type": "code",
      "source": [
        "x=0\n",
        "s=int(input('Enter total sales'))\n",
        "c=10/100*s\n",
        "while s>=10000:\n",
        "  x=x+1000\n",
        "  s=s-10000\n",
        "t=c+x\n",
        "print('Your total earning is',t)"
      ],
      "metadata": {
        "colab": {
          "base_uri": "https://localhost:8080/"
        },
        "id": "_eDUDmcjqzTP",
        "outputId": "28bbad90-bc1f-449c-d459-805661957955"
      },
      "execution_count": 20,
      "outputs": [
        {
          "output_type": "stream",
          "name": "stdout",
          "text": [
            "Enter total sales45000\n",
            "Your total earning is 8500.0\n"
          ]
        }
      ]
    },
    {
      "cell_type": "code",
      "source": [
        ""
      ],
      "metadata": {
        "id": "ZBQyKsbSyZU4"
      },
      "execution_count": null,
      "outputs": []
    }
  ]
}